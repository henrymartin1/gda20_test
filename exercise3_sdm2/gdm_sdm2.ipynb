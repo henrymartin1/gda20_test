{
 "cells": [
  {
   "cell_type": "markdown",
   "metadata": {},
   "source": [
    "# 3. Übung Geodatenanalyse\n",
    "## Analyse von Bewegungsdaten II\n",
    "\n",
    "In der heutigen Übung werden Sie aus GPS-Trackingdaten trajektorien extrahieren und diese anschliessend analysieren. Die Übung knüpft dabei direkt an die Übung 2 an und besteht aus folgenden teilen: \n",
    "\n",
    "- __Teil 1:__ Validierung der Ergebnisse aus Übung 2 (Extrahierung von Aufenthaltspunkten).\n",
    "- __Teil 2:__ Implementierung eines Algorithmus zur Segmentierung von trajektorien basierend auf bereits extrahierten Aufenthaltspunkten. \n",
    "- __Teil 3:__ Analyse der Trajektorien über Histogramme und durch die mittles Merkmalberechnung und über Clustering mit ähnlichkeitsmaasen (Fréchet Distanz)\n",
    "\n"
   ]
  },
  {
   "cell_type": "code",
   "execution_count": 1,
   "metadata": {},
   "outputs": [],
   "source": [
    "import datetime\n",
    "import pyproj\n",
    "\n",
    "import numpy as np\n",
    "import ipyleaflet as ipy \n",
    "import geopandas as gpd\n",
    "import json\n",
    "import pandas as pd\n",
    "import os\n",
    "from gda_sdm2_functions import read_romataxidata, apply_dbscan, transform, filter_by_label, \\\n",
    "                                get_tripleg_geometry_from_points, get_tripleg, get_ipyleaflet_trackpoint_layer\n",
    "\n",
    "from ipywidgets import HTML\n",
    "from shapely.geometry import LineString\n",
    "\n",
    "import matplotlib.pyplot as plt\n",
    "import matplotlib\n",
    "import time\n",
    "from ipyleaflet import WidgetControl\n",
    "\n",
    "crs_wgs84= \"EPSG:4326\""
   ]
  },
  {
   "cell_type": "markdown",
   "metadata": {},
   "source": [
    "We define some elements for plotting"
   ]
  },
  {
   "cell_type": "code",
   "execution_count": 2,
   "metadata": {},
   "outputs": [],
   "source": [
    "tripleg_style={'opacity': 0.8, 'width': 8, 'color': 'Blue'}\n",
    "tripleg_hoverstyle={'color': '#b08a3e' , 'fillOpacity': 0.8}\n",
    "\n",
    "\n",
    "html = HTML(\"\")\n",
    "html.layout.margin = '0px 20px 20px 20px'\n",
    "tripleg_info_box = WidgetControl(widget=html, position='topright')\n",
    "\n",
    "def tripleg_hover_info(feature, **kwargs):\n",
    "    string_list = []\n",
    "    string_list.append(\"<table>\")\n",
    "    for var_name in feature['properties']:\n",
    "        value = feature['properties'][var_name]\n",
    "        string_list.append(\"<tr> <td>{}:</td>  <td>&emsp;</td> <td>{}</td> </tr>\\n\".format(var_name, value))\n",
    "   \n",
    "    string_list.append(\"</table>\")\n",
    "    html.value = \"\".join(string_list)\n",
    "    "
   ]
  },
  {
   "cell_type": "markdown",
   "metadata": {},
   "source": [
    "## Validierung der Ergebnisse aus Übung 2\n",
    "\n",
    "### 1.1 Berechnen der Ergebnisse der letzten Übung\n",
    "Zuerst berechnen wir die Ergebnisse aus Übung 2 erneut. Dafür haben wir die Funktionen die Sie in Übung 2 bearbeitet haben in der Datei ``gda_sdm2_functions.py`` zusammengefasst. \n"
   ]
  },
  {
   "cell_type": "code",
   "execution_count": 3,
   "metadata": {},
   "outputs": [
    {
     "name": "stdout",
     "output_type": "stream",
     "text": [
      "Estimated number of clusters: 47\n"
     ]
    }
   ],
   "source": [
    "# Path to input file\n",
    "input_file = os.path.join('input_data', 'taxi_21.txt')\n",
    "\n",
    "# Read data\n",
    "data_orginal = read_romataxidata(input_file, nrows=5000)\n",
    "\n",
    "# Apply transformations\n",
    "data = transform(data_orginal, timescale=60)\n",
    "\n",
    "# Calculate clusters with dbscan\n",
    "labels, core_samples_indices = apply_dbscan(data, eps=5, min_samples=10, metric='chebyshev')"
   ]
  },
  {
   "cell_type": "markdown",
   "metadata": {},
   "source": [
    "### 1.2 Visualisierung der Staypoints\n",
    "Um uns die Daten der letzten Woche nochmals genauer anzusehen, möchten wie sie Visualsieren. Dazu fassen wir die Daten in einem [Geopandas Dataframe](https://github.com/geopandas/geopandas) zusammen. Ein Geodataframe ist eine python Datenstruktur die es uns ermöglicht effizient mit Geodaten umzugehen und sie später zu visualisieren. Alle Daten die wir visualsieren möchten, müssen also in dem Geodataframe stehen. Um die Ergebnisse gut analysieren zu können und um später mit den Daten weiterarbeiten zu könenn, brauchen wir vor allem die folgenden Informationen:\n",
    "- __Geometrie__\n",
    "- __Zeitstempel__\n",
    "- __Clusterlabel__ \n",
    "- __Kernpunktindikator__\n",
    "\n",
    "Dafür verbinden wir die Originaldaten (nicht die transformierten Daten, diese haben keine Zeitstempel mehr) mit den Ergebnissen des Cluteringalgorithmus.\n"
   ]
  },
  {
   "cell_type": "code",
   "execution_count": 4,
   "metadata": {},
   "outputs": [
    {
     "data": {
      "text/html": [
       "<div>\n",
       "<style scoped>\n",
       "    .dataframe tbody tr th:only-of-type {\n",
       "        vertical-align: middle;\n",
       "    }\n",
       "\n",
       "    .dataframe tbody tr th {\n",
       "        vertical-align: top;\n",
       "    }\n",
       "\n",
       "    .dataframe thead th {\n",
       "        text-align: right;\n",
       "    }\n",
       "</style>\n",
       "<table border=\"1\" class=\"dataframe\">\n",
       "  <thead>\n",
       "    <tr style=\"text-align: right;\">\n",
       "      <th></th>\n",
       "      <th>long</th>\n",
       "      <th>lat</th>\n",
       "      <th>timestamp</th>\n",
       "      <th>geometry</th>\n",
       "      <th>is_core</th>\n",
       "      <th>label</th>\n",
       "    </tr>\n",
       "  </thead>\n",
       "  <tbody>\n",
       "    <tr>\n",
       "      <th>0</th>\n",
       "      <td>12.524926</td>\n",
       "      <td>41.936760</td>\n",
       "      <td>2014-02-02 14:32:17.886734</td>\n",
       "      <td>POINT (12.52493 41.93676)</td>\n",
       "      <td>False</td>\n",
       "      <td>-1</td>\n",
       "    </tr>\n",
       "    <tr>\n",
       "      <th>1</th>\n",
       "      <td>12.524926</td>\n",
       "      <td>41.936760</td>\n",
       "      <td>2014-02-02 14:32:17.887344</td>\n",
       "      <td>POINT (12.52493 41.93676)</td>\n",
       "      <td>False</td>\n",
       "      <td>-1</td>\n",
       "    </tr>\n",
       "    <tr>\n",
       "      <th>2</th>\n",
       "      <td>12.523382</td>\n",
       "      <td>41.935415</td>\n",
       "      <td>2014-02-02 14:32:25.942641</td>\n",
       "      <td>POINT (12.52338 41.93541)</td>\n",
       "      <td>False</td>\n",
       "      <td>-1</td>\n",
       "    </tr>\n",
       "    <tr>\n",
       "      <th>3</th>\n",
       "      <td>12.521539</td>\n",
       "      <td>41.933817</td>\n",
       "      <td>2014-02-02 14:32:40.983523</td>\n",
       "      <td>POINT (12.52154 41.93382)</td>\n",
       "      <td>False</td>\n",
       "      <td>-1</td>\n",
       "    </tr>\n",
       "    <tr>\n",
       "      <th>4</th>\n",
       "      <td>12.521023</td>\n",
       "      <td>41.933368</td>\n",
       "      <td>2014-02-02 14:32:56.936338</td>\n",
       "      <td>POINT (12.52102 41.93337)</td>\n",
       "      <td>False</td>\n",
       "      <td>-1</td>\n",
       "    </tr>\n",
       "  </tbody>\n",
       "</table>\n",
       "</div>"
      ],
      "text/plain": [
       "        long        lat                  timestamp                   geometry  \\\n",
       "0  12.524926  41.936760 2014-02-02 14:32:17.886734  POINT (12.52493 41.93676)   \n",
       "1  12.524926  41.936760 2014-02-02 14:32:17.887344  POINT (12.52493 41.93676)   \n",
       "2  12.523382  41.935415 2014-02-02 14:32:25.942641  POINT (12.52338 41.93541)   \n",
       "3  12.521539  41.933817 2014-02-02 14:32:40.983523  POINT (12.52154 41.93382)   \n",
       "4  12.521023  41.933368 2014-02-02 14:32:56.936338  POINT (12.52102 41.93337)   \n",
       "\n",
       "   is_core  label  \n",
       "0    False     -1  \n",
       "1    False     -1  \n",
       "2    False     -1  \n",
       "3    False     -1  \n",
       "4    False     -1  "
      ]
     },
     "execution_count": 4,
     "metadata": {},
     "output_type": "execute_result"
    }
   ],
   "source": [
    "# Construct Geodataframe from original data\n",
    "italy_gdf = gpd.GeoDataFrame(data=data_orginal, columns= ['long', 'lat',  'timestamp'], \n",
    "            geometry=gpd.points_from_xy([row[0] for row in data_orginal], [row[1] for row in data_orginal]), crs=crs_wgs84)\n",
    "\n",
    "# Add clustering information\n",
    "italy_gdf['is_core'] = False\n",
    "italy_gdf.loc[core_samples_indices, 'is_core'] = True\n",
    "italy_gdf['label'] = labels.astype('int')\n",
    "\n",
    "# make sure the dataframe is sorted by tracking time and show first lines\n",
    "italy_gdf.sort_values(by='timestamp', inplace=True)\n",
    "italy_gdf.head()"
   ]
  },
  {
   "cell_type": "code",
   "execution_count": 5,
   "metadata": {},
   "outputs": [
    {
     "name": "stdout",
     "output_type": "stream",
     "text": [
      "[-1  0  1  2  3  4  5  6  7  8  9 10 11 12 13 14 15 16 17 18 19 20 21 22\n",
      " 23 24 25 26 27 28 29 30 31 32 33 34 35 36 37 38 39 40 41 42 43 44 45 46]\n"
     ]
    }
   ],
   "source": [
    "print(italy_gdf['label'].unique())"
   ]
  },
  {
   "cell_type": "markdown",
   "metadata": {},
   "source": [
    "Die Daten im Geopandasformat geben uns schon jetzt die Möglichkeit sie einfach und schnell über die ``gdf.plot()`` zu visualisieren. Um die Ergbnisse gut zu verstehen, ist es aber hilfreich, die Ergebnisse interaktiv auf einer Karte darzustellen."
   ]
  },
  {
   "cell_type": "code",
   "execution_count": 6,
   "metadata": {},
   "outputs": [
    {
     "data": {
      "text/plain": [
       "<matplotlib.axes._subplots.AxesSubplot at 0x22643c5fb00>"
      ]
     },
     "execution_count": 6,
     "metadata": {},
     "output_type": "execute_result"
    },
    {
     "data": {
      "image/png": "[encoded data removed]",
      "text/plain": [
       "<Figure size 432x288 with 1 Axes>"
      ]
     },
     "metadata": {
      "needs_background": "light"
     },
     "output_type": "display_data"
    }
   ],
   "source": [
    "italy_gdf.plot()"
   ]
  },
  {
   "cell_type": "code",
   "execution_count": null,
   "metadata": {},
   "outputs": [],
   "source": []
  },
  {
   "cell_type": "code",
   "execution_count": null,
   "metadata": {},
   "outputs": [],
   "source": [
    "\n",
    "\n",
    "\n",
    "\n"
   ]
  },
  {
   "cell_type": "code",
   "execution_count": null,
   "metadata": {},
   "outputs": [],
   "source": []
  },
  {
   "cell_type": "code",
   "execution_count": null,
   "metadata": {},
   "outputs": [],
   "source": [
    "\n"
   ]
  },
  {
   "cell_type": "code",
   "execution_count": null,
   "metadata": {},
   "outputs": [],
   "source": []
  },
  {
   "cell_type": "code",
   "execution_count": 7,
   "metadata": {},
   "outputs": [],
   "source": [
    "m = ipy.Map(center=(41.888, 12.5215), zoom = 12) # basemap= ipy.basemaps.Esri.WorldTopoMap)\n",
    "m.add_control(ipy.LayersControl())"
   ]
  },
  {
   "cell_type": "code",
   "execution_count": 8,
   "metadata": {},
   "outputs": [
    {
     "name": "stdout",
     "output_type": "stream",
     "text": [
      "(830, 6)\n"
     ]
    }
   ],
   "source": [
    "layer_noise, layer_sp = get_ipyleaflet_trackpoint_layer(italy_gdf.copy(), min_label=6, max_label=8, slack=10)\n",
    "m.add_layer(layer_noise)\n",
    "m.add_layer(layer_sp)"
   ]
  },
  {
   "cell_type": "markdown",
   "metadata": {},
   "source": [
    "Sehen Sie sich die Interaktive Karte an, sehen die Ergebnisse sinvoll aus? Die einzelnen Trackpunkte sind in Grau eingezeichnet, Staypoints (Punkte die zu einem Cluster gehören) sind etwas grösser in Farbe eingezeichnet."
   ]
  },
  {
   "cell_type": "code",
   "execution_count": 9,
   "metadata": {
    "scrolled": true
   },
   "outputs": [
    {
     "data": {
      "application/vnd.jupyter.widget-view+json": {
       "model_id": "c603c3815a104eb9978c25e2dbf9405d",
       "version_major": 2,
       "version_minor": 0
      },
      "text/plain": [
       "Map(center=[41.888, 12.5215], controls=(ZoomControl(options=['position', 'zoom_in_text', 'zoom_in_title', 'zoo…"
      ]
     },
     "metadata": {},
     "output_type": "display_data"
    }
   ],
   "source": [
    "m"
   ]
  },
  {
   "cell_type": "code",
   "execution_count": 10,
   "metadata": {},
   "outputs": [
    {
     "data": {
      "text/plain": [
       "Index(['long', 'lat', 'timestamp', 'geometry', 'is_core', 'label'], dtype='object')"
      ]
     },
     "execution_count": 10,
     "metadata": {},
     "output_type": "execute_result"
    }
   ],
   "source": [
    "italy_gdf.columns"
   ]
  },
  {
   "cell_type": "markdown",
   "metadata": {},
   "source": [
    "## Teil 2 Segmentierung von Triplegs\n",
    "\n"
   ]
  },
  {
   "cell_type": "markdown",
   "metadata": {},
   "source": [
    "\n",
    "\n",
    "x\ty\ttimestamp_norm\tlabel\tgeometry\ttimestamp\tis_core\n",
    "0\t294810.534620\t4.645718e+06\t46952.298112\t-1.0\tPOINT (12.52493 41.93676)\t2014-02-02 14:32:17.886734"
   ]
  },
  {
   "cell_type": "code",
   "execution_count": 11,
   "metadata": {},
   "outputs": [
    {
     "data": {
      "text/html": [
       "<div>\n",
       "<style scoped>\n",
       "    .dataframe tbody tr th:only-of-type {\n",
       "        vertical-align: middle;\n",
       "    }\n",
       "\n",
       "    .dataframe tbody tr th {\n",
       "        vertical-align: top;\n",
       "    }\n",
       "\n",
       "    .dataframe thead th {\n",
       "        text-align: right;\n",
       "    }\n",
       "</style>\n",
       "<table border=\"1\" class=\"dataframe\">\n",
       "  <thead>\n",
       "    <tr style=\"text-align: right;\">\n",
       "      <th></th>\n",
       "      <th>timestamp</th>\n",
       "      <th>label</th>\n",
       "      <th>geometry</th>\n",
       "    </tr>\n",
       "  </thead>\n",
       "  <tbody>\n",
       "    <tr>\n",
       "      <th>380</th>\n",
       "      <td>2014-02-02 16:02:58.614868</td>\n",
       "      <td>-1</td>\n",
       "      <td>POINT (12.46918 41.90565)</td>\n",
       "    </tr>\n",
       "    <tr>\n",
       "      <th>381</th>\n",
       "      <td>2014-02-02 16:03:13.260344</td>\n",
       "      <td>-1</td>\n",
       "      <td>POINT (12.46901 41.90554)</td>\n",
       "    </tr>\n",
       "    <tr>\n",
       "      <th>382</th>\n",
       "      <td>2014-02-02 16:03:28.936004</td>\n",
       "      <td>-1</td>\n",
       "      <td>POINT (12.46901 41.90554)</td>\n",
       "    </tr>\n",
       "    <tr>\n",
       "      <th>383</th>\n",
       "      <td>2014-02-02 16:03:43.393432</td>\n",
       "      <td>0</td>\n",
       "      <td>POINT (12.46891 41.90550)</td>\n",
       "    </tr>\n",
       "    <tr>\n",
       "      <th>384</th>\n",
       "      <td>2014-02-02 16:03:58.530495</td>\n",
       "      <td>0</td>\n",
       "      <td>POINT (12.46891 41.90550)</td>\n",
       "    </tr>\n",
       "    <tr>\n",
       "      <th>385</th>\n",
       "      <td>2014-02-02 16:04:13.319161</td>\n",
       "      <td>0</td>\n",
       "      <td>POINT (12.46891 41.90550)</td>\n",
       "    </tr>\n",
       "    <tr>\n",
       "      <th>386</th>\n",
       "      <td>2014-02-02 16:04:27.911029</td>\n",
       "      <td>0</td>\n",
       "      <td>POINT (12.46891 41.90550)</td>\n",
       "    </tr>\n",
       "    <tr>\n",
       "      <th>387</th>\n",
       "      <td>2014-02-02 16:04:45.169180</td>\n",
       "      <td>0</td>\n",
       "      <td>POINT (12.46891 41.90550)</td>\n",
       "    </tr>\n",
       "    <tr>\n",
       "      <th>388</th>\n",
       "      <td>2014-02-02 16:04:58.274886</td>\n",
       "      <td>0</td>\n",
       "      <td>POINT (12.46891 41.90550)</td>\n",
       "    </tr>\n",
       "    <tr>\n",
       "      <th>389</th>\n",
       "      <td>2014-02-02 16:05:12.881226</td>\n",
       "      <td>0</td>\n",
       "      <td>POINT (12.46891 41.90550)</td>\n",
       "    </tr>\n",
       "    <tr>\n",
       "      <th>390</th>\n",
       "      <td>2014-02-02 16:05:28.320058</td>\n",
       "      <td>0</td>\n",
       "      <td>POINT (12.46891 41.90550)</td>\n",
       "    </tr>\n",
       "    <tr>\n",
       "      <th>391</th>\n",
       "      <td>2014-02-02 16:05:43.579940</td>\n",
       "      <td>0</td>\n",
       "      <td>POINT (12.46891 41.90550)</td>\n",
       "    </tr>\n",
       "    <tr>\n",
       "      <th>392</th>\n",
       "      <td>2014-02-02 16:05:57.912457</td>\n",
       "      <td>0</td>\n",
       "      <td>POINT (12.46891 41.90550)</td>\n",
       "    </tr>\n",
       "    <tr>\n",
       "      <th>393</th>\n",
       "      <td>2014-02-02 16:06:12.913158</td>\n",
       "      <td>0</td>\n",
       "      <td>POINT (12.46891 41.90550)</td>\n",
       "    </tr>\n",
       "    <tr>\n",
       "      <th>394</th>\n",
       "      <td>2014-02-02 16:06:27.912996</td>\n",
       "      <td>0</td>\n",
       "      <td>POINT (12.46891 41.90550)</td>\n",
       "    </tr>\n",
       "    <tr>\n",
       "      <th>395</th>\n",
       "      <td>2014-02-02 16:06:43.281689</td>\n",
       "      <td>0</td>\n",
       "      <td>POINT (12.46891 41.90550)</td>\n",
       "    </tr>\n",
       "    <tr>\n",
       "      <th>396</th>\n",
       "      <td>2014-02-02 16:06:57.881733</td>\n",
       "      <td>0</td>\n",
       "      <td>POINT (12.46891 41.90550)</td>\n",
       "    </tr>\n",
       "    <tr>\n",
       "      <th>397</th>\n",
       "      <td>2014-02-02 16:07:12.919115</td>\n",
       "      <td>0</td>\n",
       "      <td>POINT (12.46888 41.90548)</td>\n",
       "    </tr>\n",
       "    <tr>\n",
       "      <th>398</th>\n",
       "      <td>2014-02-02 16:07:28.362799</td>\n",
       "      <td>0</td>\n",
       "      <td>POINT (12.46886 41.90546)</td>\n",
       "    </tr>\n",
       "    <tr>\n",
       "      <th>399</th>\n",
       "      <td>2014-02-02 16:07:43.296153</td>\n",
       "      <td>0</td>\n",
       "      <td>POINT (12.46886 41.90546)</td>\n",
       "    </tr>\n",
       "    <tr>\n",
       "      <th>400</th>\n",
       "      <td>2014-02-02 16:07:58.286626</td>\n",
       "      <td>0</td>\n",
       "      <td>POINT (12.46886 41.90546)</td>\n",
       "    </tr>\n",
       "    <tr>\n",
       "      <th>401</th>\n",
       "      <td>2014-02-02 16:08:13.274621</td>\n",
       "      <td>0</td>\n",
       "      <td>POINT (12.46886 41.90546)</td>\n",
       "    </tr>\n",
       "    <tr>\n",
       "      <th>402</th>\n",
       "      <td>2014-02-02 16:08:27.913555</td>\n",
       "      <td>0</td>\n",
       "      <td>POINT (12.46886 41.90546)</td>\n",
       "    </tr>\n",
       "    <tr>\n",
       "      <th>403</th>\n",
       "      <td>2014-02-02 16:08:42.913844</td>\n",
       "      <td>0</td>\n",
       "      <td>POINT (12.46886 41.90545)</td>\n",
       "    </tr>\n",
       "    <tr>\n",
       "      <th>404</th>\n",
       "      <td>2014-02-02 16:08:57.923343</td>\n",
       "      <td>0</td>\n",
       "      <td>POINT (12.46886 41.90545)</td>\n",
       "    </tr>\n",
       "    <tr>\n",
       "      <th>405</th>\n",
       "      <td>2014-02-02 16:09:12.916026</td>\n",
       "      <td>0</td>\n",
       "      <td>POINT (12.46882 41.90543)</td>\n",
       "    </tr>\n",
       "    <tr>\n",
       "      <th>406</th>\n",
       "      <td>2014-02-02 16:09:29.297775</td>\n",
       "      <td>-1</td>\n",
       "      <td>POINT (12.46855 41.90538)</td>\n",
       "    </tr>\n",
       "    <tr>\n",
       "      <th>407</th>\n",
       "      <td>2014-02-02 16:10:40.313884</td>\n",
       "      <td>-1</td>\n",
       "      <td>POINT (12.46564 41.90732)</td>\n",
       "    </tr>\n",
       "    <tr>\n",
       "      <th>408</th>\n",
       "      <td>2014-02-02 16:10:40.314621</td>\n",
       "      <td>-1</td>\n",
       "      <td>POINT (12.46564 41.90732)</td>\n",
       "    </tr>\n",
       "    <tr>\n",
       "      <th>409</th>\n",
       "      <td>2014-02-02 16:10:41.022349</td>\n",
       "      <td>-1</td>\n",
       "      <td>POINT (12.46564 41.90732)</td>\n",
       "    </tr>\n",
       "    <tr>\n",
       "      <th>410</th>\n",
       "      <td>2014-02-02 16:10:41.022901</td>\n",
       "      <td>-1</td>\n",
       "      <td>POINT (12.46564 41.90732)</td>\n",
       "    </tr>\n",
       "    <tr>\n",
       "      <th>411</th>\n",
       "      <td>2014-02-02 16:10:41.196197</td>\n",
       "      <td>-1</td>\n",
       "      <td>POINT (12.46564 41.90732)</td>\n",
       "    </tr>\n",
       "    <tr>\n",
       "      <th>412</th>\n",
       "      <td>2014-02-02 16:10:43.392934</td>\n",
       "      <td>-1</td>\n",
       "      <td>POINT (12.46543 41.90729)</td>\n",
       "    </tr>\n",
       "    <tr>\n",
       "      <th>413</th>\n",
       "      <td>2014-02-02 16:10:46.422516</td>\n",
       "      <td>-1</td>\n",
       "      <td>POINT (12.46526 41.90726)</td>\n",
       "    </tr>\n",
       "    <tr>\n",
       "      <th>414</th>\n",
       "      <td>2014-02-02 16:10:46.423126</td>\n",
       "      <td>-1</td>\n",
       "      <td>POINT (12.46526 41.90726)</td>\n",
       "    </tr>\n",
       "    <tr>\n",
       "      <th>415</th>\n",
       "      <td>2014-02-02 16:10:47.830279</td>\n",
       "      <td>-1</td>\n",
       "      <td>POINT (12.46526 41.90726)</td>\n",
       "    </tr>\n",
       "    <tr>\n",
       "      <th>416</th>\n",
       "      <td>2014-02-02 16:11:03.244793</td>\n",
       "      <td>-1</td>\n",
       "      <td>POINT (12.46386 41.90707)</td>\n",
       "    </tr>\n",
       "    <tr>\n",
       "      <th>417</th>\n",
       "      <td>2014-02-02 16:11:17.854885</td>\n",
       "      <td>-1</td>\n",
       "      <td>POINT (12.46295 41.90694)</td>\n",
       "    </tr>\n",
       "    <tr>\n",
       "      <th>418</th>\n",
       "      <td>2014-02-02 16:11:32.849597</td>\n",
       "      <td>-1</td>\n",
       "      <td>POINT (12.46270 41.90757)</td>\n",
       "    </tr>\n",
       "    <tr>\n",
       "      <th>419</th>\n",
       "      <td>2014-02-02 16:11:48.164386</td>\n",
       "      <td>-1</td>\n",
       "      <td>POINT (12.46227 41.90876)</td>\n",
       "    </tr>\n",
       "    <tr>\n",
       "      <th>420</th>\n",
       "      <td>2014-02-02 16:12:01.781292</td>\n",
       "      <td>-1</td>\n",
       "      <td>POINT (12.46199 41.90945)</td>\n",
       "    </tr>\n",
       "  </tbody>\n",
       "</table>\n",
       "</div>"
      ],
      "text/plain": [
       "                     timestamp  label                   geometry\n",
       "380 2014-02-02 16:02:58.614868     -1  POINT (12.46918 41.90565)\n",
       "381 2014-02-02 16:03:13.260344     -1  POINT (12.46901 41.90554)\n",
       "382 2014-02-02 16:03:28.936004     -1  POINT (12.46901 41.90554)\n",
       "383 2014-02-02 16:03:43.393432      0  POINT (12.46891 41.90550)\n",
       "384 2014-02-02 16:03:58.530495      0  POINT (12.46891 41.90550)\n",
       "385 2014-02-02 16:04:13.319161      0  POINT (12.46891 41.90550)\n",
       "386 2014-02-02 16:04:27.911029      0  POINT (12.46891 41.90550)\n",
       "387 2014-02-02 16:04:45.169180      0  POINT (12.46891 41.90550)\n",
       "388 2014-02-02 16:04:58.274886      0  POINT (12.46891 41.90550)\n",
       "389 2014-02-02 16:05:12.881226      0  POINT (12.46891 41.90550)\n",
       "390 2014-02-02 16:05:28.320058      0  POINT (12.46891 41.90550)\n",
       "391 2014-02-02 16:05:43.579940      0  POINT (12.46891 41.90550)\n",
       "392 2014-02-02 16:05:57.912457      0  POINT (12.46891 41.90550)\n",
       "393 2014-02-02 16:06:12.913158      0  POINT (12.46891 41.90550)\n",
       "394 2014-02-02 16:06:27.912996      0  POINT (12.46891 41.90550)\n",
       "395 2014-02-02 16:06:43.281689      0  POINT (12.46891 41.90550)\n",
       "396 2014-02-02 16:06:57.881733      0  POINT (12.46891 41.90550)\n",
       "397 2014-02-02 16:07:12.919115      0  POINT (12.46888 41.90548)\n",
       "398 2014-02-02 16:07:28.362799      0  POINT (12.46886 41.90546)\n",
       "399 2014-02-02 16:07:43.296153      0  POINT (12.46886 41.90546)\n",
       "400 2014-02-02 16:07:58.286626      0  POINT (12.46886 41.90546)\n",
       "401 2014-02-02 16:08:13.274621      0  POINT (12.46886 41.90546)\n",
       "402 2014-02-02 16:08:27.913555      0  POINT (12.46886 41.90546)\n",
       "403 2014-02-02 16:08:42.913844      0  POINT (12.46886 41.90545)\n",
       "404 2014-02-02 16:08:57.923343      0  POINT (12.46886 41.90545)\n",
       "405 2014-02-02 16:09:12.916026      0  POINT (12.46882 41.90543)\n",
       "406 2014-02-02 16:09:29.297775     -1  POINT (12.46855 41.90538)\n",
       "407 2014-02-02 16:10:40.313884     -1  POINT (12.46564 41.90732)\n",
       "408 2014-02-02 16:10:40.314621     -1  POINT (12.46564 41.90732)\n",
       "409 2014-02-02 16:10:41.022349     -1  POINT (12.46564 41.90732)\n",
       "410 2014-02-02 16:10:41.022901     -1  POINT (12.46564 41.90732)\n",
       "411 2014-02-02 16:10:41.196197     -1  POINT (12.46564 41.90732)\n",
       "412 2014-02-02 16:10:43.392934     -1  POINT (12.46543 41.90729)\n",
       "413 2014-02-02 16:10:46.422516     -1  POINT (12.46526 41.90726)\n",
       "414 2014-02-02 16:10:46.423126     -1  POINT (12.46526 41.90726)\n",
       "415 2014-02-02 16:10:47.830279     -1  POINT (12.46526 41.90726)\n",
       "416 2014-02-02 16:11:03.244793     -1  POINT (12.46386 41.90707)\n",
       "417 2014-02-02 16:11:17.854885     -1  POINT (12.46295 41.90694)\n",
       "418 2014-02-02 16:11:32.849597     -1  POINT (12.46270 41.90757)\n",
       "419 2014-02-02 16:11:48.164386     -1  POINT (12.46227 41.90876)\n",
       "420 2014-02-02 16:12:01.781292     -1  POINT (12.46199 41.90945)"
      ]
     },
     "execution_count": 11,
     "metadata": {},
     "output_type": "execute_result"
    }
   ],
   "source": [
    "pd.set_option('display.max_rows', 1000)\n",
    "trackpoint_list = italy_gdf[['timestamp', 'label', 'geometry']].values.tolist()\n",
    "italy_gdf.loc[380:420,['timestamp', 'label', 'geometry']]"
   ]
  },
  {
   "cell_type": "markdown",
   "metadata": {},
   "source": [
    "### Teil 2.1 Implementierung des Algorithmus"
   ]
  },
  {
   "cell_type": "code",
   "execution_count": null,
   "metadata": {},
   "outputs": [],
   "source": []
  },
  {
   "cell_type": "code",
   "execution_count": 28,
   "metadata": {},
   "outputs": [],
   "source": [
    "# initialize\n",
    "n = len(trackpoint_list)\n",
    "tripleg_list = []\n",
    "i = 0\n",
    "\n",
    "# iterate all trackpoints\n",
    "while (i < (n-1)):\n",
    "\n",
    "    # check if new tripleg begins\n",
    "    if trackpoint_list[i][1] == -1:\n",
    "        \n",
    "        \n",
    "        # store information from tripleg start\n",
    "        tripleg_previouslabel = trackpoint_list[i-1][1]\n",
    "        tripleg_starttime = trackpoint_list[i][0]\n",
    "        tripleg_point_list = []\n",
    "        \n",
    "        # iterate from start of tripleg until end of tripleg\n",
    "        j = i\n",
    "        while j < (n -1) and trackpoint_list[j][1] == -1: \n",
    "        \n",
    "            # store trackpoints of tripleg\n",
    "            tripleg_point_list.append(trackpoint_list[j][2])\n",
    "            j +=1\n",
    "                    \n",
    "        # end of tripleg\n",
    "        \n",
    "        # if we have at least 2 points in the tripleg_point_list, we store the tripleg \n",
    "        if len(tripleg_point_list) > 2:\n",
    "        \n",
    "            # collect tripleg information rember, j is now pointing on a staypoint and therefore on a non-tripleg point \n",
    "            tripleg_geometry = get_tripleg_geometry_from_points(tripleg_point_list)\n",
    "            tripleg_nextlabel = trackpoint_list[j][1]\n",
    "            tripleg_endtime = trackpoint_list[j-1][0]\n",
    "\n",
    "            # append tripleg information (as tuple or list) to the 'tripleg_list'.\n",
    "            # The order has to be (tripleg_previous_label, tripleg_nextlabel, tripleg_starttime, tripleg_endtime, tripleg_geometry)\n",
    "            tripleg_list.append((tripleg_previouslabel, tripleg_nextlabel, tripleg_starttime, tripleg_endtime, tripleg_geometry))\n",
    "        \n",
    "        # set i counter to the next point non-tripleg point\n",
    "        i = j\n",
    "        \n",
    "\n",
    "                \n",
    "    else:\n",
    "        i +=1           "
   ]
  },
  {
   "cell_type": "markdown",
   "metadata": {},
   "source": []
  },
  {
   "cell_type": "code",
   "execution_count": null,
   "metadata": {},
   "outputs": [],
   "source": []
  },
  {
   "cell_type": "markdown",
   "metadata": {},
   "source": [
    "### 2.2 Visualisierung der Ergebnisse:\n",
    "Um die Ergebnisse zu visualisieren, brauchen wir zunächst wieder geodataframes"
   ]
  },
  {
   "cell_type": "code",
   "execution_count": 39,
   "metadata": {},
   "outputs": [],
   "source": [
    "# transform data into a geodataframe. 'tripleg_list' has to be a list of tuples e.g.,\n",
    "#(cluster_start, cluster_end, start_time, end_time, geometry) or a list of lists with the same order of items\n",
    "tripleg_gdf = pd.DataFrame(tripleg_list, columns=['prevlabel', 'nextlabel', 'start_time', 'end_time', 'geometry'])\n",
    "tripleg_gdf = gpd.GeoDataFrame(tripleg_gdf, geometry=tripleg_gdf.geometry, crs=crs_wgs84)\n",
    "\n",
    "# transform timestamps to strings for plotting\n",
    "tripleg_gdf['start_time'] = tripleg_gdf['start_time'].dt.strftime(\"%Y-%m-%d %H-%M-%S\")\n",
    "tripleg_gdf['end_time'] = tripleg_gdf['end_time'].dt.strftime(\"%Y-%m-%d %H-%M-%S\")"
   ]
  },
  {
   "cell_type": "markdown",
   "metadata": {},
   "source": [
    "Initialize map"
   ]
  },
  {
   "cell_type": "code",
   "execution_count": 43,
   "metadata": {},
   "outputs": [
    {
     "data": {
      "application/vnd.jupyter.widget-view+json": {
       "model_id": "a942cae238d44362a4dd2eedc18778c1",
       "version_major": 2,
       "version_minor": 0
      },
      "text/plain": [
       "Map(center=[41.8881987655463, 12.5215863435528], controls=(ZoomControl(options=['position', 'zoom_in_text', 'z…"
      ]
     },
     "metadata": {},
     "output_type": "display_data"
    }
   ],
   "source": [
    "m = ipy.Map(center=(41.8881987655463, 12.5215863435528), zoom = 12) # basemap= ipy.basemaps.Esri.WorldTopoMap)\n",
    "min_label = 6\n",
    "max_label = 8\n",
    "m.add_control(ipy.LayersControl())\n",
    "m.add_control(tripleg_info_box)\n",
    "m.add_layer(layer_noise)\n",
    "m.add_layer(layer_sp)\n",
    "m"
   ]
  },
  {
   "cell_type": "markdown",
   "metadata": {},
   "source": [
    "Add layers "
   ]
  },
  {
   "cell_type": "code",
   "execution_count": 44,
   "metadata": {},
   "outputs": [],
   "source": [
    "# add all triplegs\n",
    "#geo_data = ipy.GeoData(geo_dataframe=tripleg_gdf, name='triplegs', style=tripleg_style, hover_style=tripleg_hoverstyle)\n",
    "\n",
    "# add a range of triplegs\n",
    "tripleg_gdf_filtered = filter_by_label(tripleg_gdf, min_label, max_label, label_col_name='prevlabel')\n",
    "\n",
    "# add one tripleg\n",
    "#geo_data = ipy.GeoData(geo_dataframe=tripleg_gdf[tripleg_gdf['prevlabel']==8], name='triplegs', style=tripleg_style, hover_style=tripleg_hoverstyle)\n",
    "\n",
    "geo_data.on_hover(tripleg_hover_info)\n",
    "m.add_layer(geo_data)\n"
   ]
  },
  {
   "cell_type": "code",
   "execution_count": null,
   "metadata": {},
   "outputs": [],
   "source": []
  },
  {
   "cell_type": "code",
   "execution_count": null,
   "metadata": {},
   "outputs": [],
   "source": [
    "\n",
    "\n",
    "\n",
    "\n",
    "\n"
   ]
  },
  {
   "cell_type": "code",
   "execution_count": null,
   "metadata": {},
   "outputs": [],
   "source": []
  },
  {
   "cell_type": "code",
   "execution_count": null,
   "metadata": {},
   "outputs": [],
   "source": [
    "# calculate speed + histogram"
   ]
  },
  {
   "cell_type": "code",
   "execution_count": null,
   "metadata": {},
   "outputs": [],
   "source": [
    "geo_data = ipy.GeoData(geo_dataframe=filter_by_label(tripleg_gdf, min_label, max_label, label_col_name='cluster_start'),\n",
    "                       name='triplegs', style={'opacity': 0.8, 'width': 8, 'color': 'Blue'}, \n",
    "                       hover_style={'color': '#b08a3e' , 'fillOpacity': 0.8})"
   ]
  },
  {
   "cell_type": "code",
   "execution_count": null,
   "metadata": {},
   "outputs": [],
   "source": []
  },
  {
   "cell_type": "code",
   "execution_count": null,
   "metadata": {},
   "outputs": [],
   "source": [
    "D_frechet = StandardScaler().fit_transform(calculate_distance_matrix(gdf, distance='frechet'))"
   ]
  },
  {
   "cell_type": "code",
   "execution_count": null,
   "metadata": {},
   "outputs": [],
   "source": []
  },
  {
   "cell_type": "code",
   "execution_count": null,
   "metadata": {},
   "outputs": [],
   "source": []
  },
  {
   "cell_type": "code",
   "execution_count": null,
   "metadata": {},
   "outputs": [],
   "source": []
  }
 ],
 "metadata": {
  "kernelspec": {
   "display_name": "Python 3",
   "language": "python",
   "name": "python3"
  },
  "language_info": {
   "codemirror_mode": {
    "name": "ipython",
    "version": 3
   },
   "file_extension": ".py",
   "mimetype": "text/x-python",
   "name": "python",
   "nbconvert_exporter": "python",
   "pygments_lexer": "ipython3",
   "version": "3.6.10"
  }
 },
 "nbformat": 4,
 "nbformat_minor": 4
}
