{
 "cells": [
  {
   "cell_type": "markdown",
   "metadata": {},
   "source": [
    "# 3. Übung Geodatenanalyse\n",
    "## Analyse von Bewegungsdaten II\n",
    "\n",
    "In der heutigen Übung werden Sie aus GPS-Trackingdaten trajektorien extrahieren und diese anschliessend analysieren. Die Übung knüpft dabei direkt an die Übung 2 an und besteht aus folgenden teilen: \n",
    "\n",
    "- __Teil 1:__ Validierung der Ergebnisse aus Übung 2 (Extrahierung von Aufenthaltspunkten).\n",
    "- __Teil 2:__ Implementierung eines Algorithmus zur Segmentierung von trajektorien basierend auf bereits extrahierten Aufenthaltspunkten. \n",
    "- __Teil 3:__ Analyse der Trajektorien über Histogramme und durch die mittles Merkmalberechnung und über Clustering mit ähnlichkeitsmaasen (Fréchet Distanz)\n",
    "\n"
   ]
  },
  {
   "cell_type": "code",
   "execution_count": 1,
   "metadata": {},
   "outputs": [],
   "source": [
    "import datetime\n",
    "import pyproj\n",
    "\n",
    "import numpy as np\n",
    "import ipyleaflet as ipy \n",
    "import geopandas as gpd\n",
    "import json\n",
    "import pandas as pd\n",
    "import os\n",
    "from gda_sdm2_functions import read_romataxidata, apply_dbscan, transform, filter_by_label, \\\n",
    "                                get_tripleg_geometry_from_points, get_tripleg, get_ipyleaflet_trackpoint_layer\n",
    "\n",
    "from ipywidgets import HTML\n",
    "from shapely.geometry import LineString\n",
    "from sklearn.cluster import DBSCAN, KMeans\n",
    "import matplotlib.pyplot as plt\n",
    "import matplotlib\n",
    "import time\n",
    "from ipyleaflet import WidgetControl\n",
    "from utils import calculate_distance_matrix\n",
    "\n",
    "crs_wgs84= \"EPSG:4326\""
   ]
  },
  {
   "cell_type": "markdown",
   "metadata": {},
   "source": [
    "We define some elements for plotting"
   ]
  },
  {
   "cell_type": "code",
   "execution_count": 2,
   "metadata": {},
   "outputs": [],
   "source": [
    "tripleg_style={'opacity': 0.8, 'width': 8, 'color': 'Blue'}\n",
    "tripleg_hoverstyle={'color': '#b08a3e' , 'fillOpacity': 0.8}\n",
    "\n",
    "\n",
    "html = HTML(\"\")\n",
    "html.layout.margin = '0px 20px 20px 20px'\n",
    "tripleg_info_box = WidgetControl(widget=html, position='topright')\n",
    "\n",
    "def tripleg_hover_info(feature, **kwargs):\n",
    "    string_list = []\n",
    "    string_list.append(\"<table>\")\n",
    "    for var_name in feature['properties']:\n",
    "        value = feature['properties'][var_name]\n",
    "        string_list.append(\"<tr> <td>{}:</td>  <td>&emsp;</td> <td>{}</td> </tr>\\n\".format(var_name, value))\n",
    "   \n",
    "    string_list.append(\"</table>\")\n",
    "    html.value = \"\".join(string_list)\n",
    "    "
   ]
  },
  {
   "cell_type": "markdown",
   "metadata": {},
   "source": [
    "## Validierung der Ergebnisse aus Übung 2\n",
    "\n",
    "### 1.1 Berechnen der Ergebnisse der letzten Übung\n",
    "Zuerst berechnen wir die Ergebnisse aus Übung 2 erneut. Dafür haben wir die Funktionen die Sie in Übung 2 bearbeitet haben in der Datei ``gda_sdm2_functions.py`` zusammengefasst. \n"
   ]
  },
  {
   "cell_type": "code",
   "execution_count": 3,
   "metadata": {},
   "outputs": [
    {
     "name": "stdout",
     "output_type": "stream",
     "text": [
      "Estimated number of clusters: 47\n"
     ]
    }
   ],
   "source": [
    "# Path to input file\n",
    "input_file = os.path.join('input_data', 'taxi_21.txt')\n",
    "\n",
    "# Read data\n",
    "data_orginal = read_romataxidata(input_file, nrows=5000)\n",
    "\n",
    "# Apply transformations\n",
    "data = transform(data_orginal, timescale=60)\n",
    "\n",
    "# Calculate clusters with dbscan\n",
    "labels, core_samples_indices = apply_dbscan(data, eps=5, min_samples=10, metric='chebyshev')"
   ]
  },
  {
   "cell_type": "markdown",
   "metadata": {},
   "source": [
    "### 1.2 Visualisierung der Staypoints\n",
    "Um uns die Daten der letzten Woche nochmals genauer anzusehen, möchten wie sie Visualsieren. Dazu fassen wir die Daten in einem [Geopandas Dataframe](https://github.com/geopandas/geopandas) zusammen. Ein Geodataframe ist eine python Datenstruktur die es uns ermöglicht effizient mit Geodaten umzugehen und sie später zu visualisieren. Alle Daten die wir visualsieren möchten, müssen also in dem Geodataframe stehen. Um die Ergebnisse gut analysieren zu können und um später mit den Daten weiterarbeiten zu könenn, brauchen wir vor allem die folgenden Informationen:\n",
    "- __Geometrie__\n",
    "- __Zeitstempel__\n",
    "- __Clusterlabel__ \n",
    "- __Kernpunktindikator__\n",
    "\n",
    "Dafür verbinden wir die Originaldaten (nicht die transformierten Daten, diese haben keine Zeitstempel mehr) mit den Ergebnissen des Cluteringalgorithmus.\n"
   ]
  },
  {
   "cell_type": "code",
   "execution_count": 4,
   "metadata": {},
   "outputs": [
    {
     "data": {
      "text/html": [
       "<div>\n",
       "<style scoped>\n",
       "    .dataframe tbody tr th:only-of-type {\n",
       "        vertical-align: middle;\n",
       "    }\n",
       "\n",
       "    .dataframe tbody tr th {\n",
       "        vertical-align: top;\n",
       "    }\n",
       "\n",
       "    .dataframe thead th {\n",
       "        text-align: right;\n",
       "    }\n",
       "</style>\n",
       "<table border=\"1\" class=\"dataframe\">\n",
       "  <thead>\n",
       "    <tr style=\"text-align: right;\">\n",
       "      <th></th>\n",
       "      <th>long</th>\n",
       "      <th>lat</th>\n",
       "      <th>timestamp</th>\n",
       "      <th>geometry</th>\n",
       "      <th>is_core</th>\n",
       "      <th>label</th>\n",
       "    </tr>\n",
       "  </thead>\n",
       "  <tbody>\n",
       "    <tr>\n",
       "      <th>0</th>\n",
       "      <td>12.524926</td>\n",
       "      <td>41.936760</td>\n",
       "      <td>2014-02-02 14:32:17.886734</td>\n",
       "      <td>POINT (12.52493 41.93676)</td>\n",
       "      <td>False</td>\n",
       "      <td>-1</td>\n",
       "    </tr>\n",
       "    <tr>\n",
       "      <th>1</th>\n",
       "      <td>12.524926</td>\n",
       "      <td>41.936760</td>\n",
       "      <td>2014-02-02 14:32:17.887344</td>\n",
       "      <td>POINT (12.52493 41.93676)</td>\n",
       "      <td>False</td>\n",
       "      <td>-1</td>\n",
       "    </tr>\n",
       "    <tr>\n",
       "      <th>2</th>\n",
       "      <td>12.523382</td>\n",
       "      <td>41.935415</td>\n",
       "      <td>2014-02-02 14:32:25.942641</td>\n",
       "      <td>POINT (12.52338 41.93541)</td>\n",
       "      <td>False</td>\n",
       "      <td>-1</td>\n",
       "    </tr>\n",
       "    <tr>\n",
       "      <th>3</th>\n",
       "      <td>12.521539</td>\n",
       "      <td>41.933817</td>\n",
       "      <td>2014-02-02 14:32:40.983523</td>\n",
       "      <td>POINT (12.52154 41.93382)</td>\n",
       "      <td>False</td>\n",
       "      <td>-1</td>\n",
       "    </tr>\n",
       "    <tr>\n",
       "      <th>4</th>\n",
       "      <td>12.521023</td>\n",
       "      <td>41.933368</td>\n",
       "      <td>2014-02-02 14:32:56.936338</td>\n",
       "      <td>POINT (12.52102 41.93337)</td>\n",
       "      <td>False</td>\n",
       "      <td>-1</td>\n",
       "    </tr>\n",
       "  </tbody>\n",
       "</table>\n",
       "</div>"
      ],
      "text/plain": [
       "        long        lat                  timestamp                   geometry  \\\n",
       "0  12.524926  41.936760 2014-02-02 14:32:17.886734  POINT (12.52493 41.93676)   \n",
       "1  12.524926  41.936760 2014-02-02 14:32:17.887344  POINT (12.52493 41.93676)   \n",
       "2  12.523382  41.935415 2014-02-02 14:32:25.942641  POINT (12.52338 41.93541)   \n",
       "3  12.521539  41.933817 2014-02-02 14:32:40.983523  POINT (12.52154 41.93382)   \n",
       "4  12.521023  41.933368 2014-02-02 14:32:56.936338  POINT (12.52102 41.93337)   \n",
       "\n",
       "   is_core  label  \n",
       "0    False     -1  \n",
       "1    False     -1  \n",
       "2    False     -1  \n",
       "3    False     -1  \n",
       "4    False     -1  "
      ]
     },
     "execution_count": 4,
     "metadata": {},
     "output_type": "execute_result"
    }
   ],
   "source": [
    "# Construct Geodataframe from original data\n",
    "italy_gdf = gpd.GeoDataFrame(data=data_orginal, columns= ['long', 'lat',  'timestamp'], \n",
    "            geometry=gpd.points_from_xy([row[0] for row in data_orginal], [row[1] for row in data_orginal]), crs=crs_wgs84)\n",
    "\n",
    "# Add clustering information\n",
    "italy_gdf['is_core'] = False\n",
    "italy_gdf.loc[core_samples_indices, 'is_core'] = True\n",
    "italy_gdf['label'] = labels.astype('int')\n",
    "\n",
    "# make sure the dataframe is sorted by tracking time and show first lines\n",
    "italy_gdf.sort_values(by='timestamp', inplace=True)\n",
    "italy_gdf.head()"
   ]
  },
  {
   "cell_type": "code",
   "execution_count": 5,
   "metadata": {},
   "outputs": [
    {
     "name": "stdout",
     "output_type": "stream",
     "text": [
      "[-1  0  1  2  3  4  5  6  7  8  9 10 11 12 13 14 15 16 17 18 19 20 21 22\n",
      " 23 24 25 26 27 28 29 30 31 32 33 34 35 36 37 38 39 40 41 42 43 44 45 46]\n"
     ]
    }
   ],
   "source": [
    "print(italy_gdf['label'].unique())"
   ]
  },
  {
   "cell_type": "markdown",
   "metadata": {},
   "source": [
    "Die Daten im Geopandasformat geben uns schon jetzt die Möglichkeit sie einfach und schnell über die ``gdf.plot()`` zu visualisieren. Um die Ergbnisse gut zu verstehen, ist es aber hilfreich, die Ergebnisse interaktiv auf einer Karte darzustellen."
   ]
  },
  {
   "cell_type": "code",
   "execution_count": 6,
   "metadata": {},
   "outputs": [
    {
     "data": {
      "text/plain": [
       "<matplotlib.axes._subplots.AxesSubplot at 0x1b06767edd8>"
      ]
     },
     "execution_count": 6,
     "metadata": {},
     "output_type": "execute_result"
    },
    {
     "data": {
      "image/png": "[encoded data removed]",
      "text/plain": [
       "<Figure size 432x288 with 1 Axes>"
      ]
     },
     "metadata": {
      "needs_background": "light"
     },
     "output_type": "display_data"
    }
   ],
   "source": [
    "italy_gdf.plot()"
   ]
  },
  {
   "cell_type": "code",
   "execution_count": 7,
   "metadata": {},
   "outputs": [],
   "source": [
    "m = ipy.Map(center=(41.888, 12.5215), zoom = 12) # basemap= ipy.basemaps.Esri.WorldTopoMap)\n",
    "m.add_control(ipy.LayersControl())"
   ]
  },
  {
   "cell_type": "code",
   "execution_count": 8,
   "metadata": {},
   "outputs": [
    {
     "name": "stdout",
     "output_type": "stream",
     "text": [
      "(830, 6)\n"
     ]
    }
   ],
   "source": [
    "layer_noise, layer_sp = get_ipyleaflet_trackpoint_layer(italy_gdf.copy(), min_label=6, max_label=8, slack=10)\n",
    "m.add_layer(layer_noise)\n",
    "m.add_layer(layer_sp)"
   ]
  },
  {
   "cell_type": "markdown",
   "metadata": {},
   "source": [
    "Sehen Sie sich die Interaktive Karte an, sehen die Ergebnisse sinvoll aus? Die einzelnen Trackpunkte sind in Grau eingezeichnet, Staypoints (Punkte die zu einem Cluster gehören) sind etwas grösser in Farbe eingezeichnet."
   ]
  },
  {
   "cell_type": "code",
   "execution_count": 9,
   "metadata": {
    "scrolled": true
   },
   "outputs": [
    {
     "data": {
      "application/vnd.jupyter.widget-view+json": {
       "model_id": "47a405d5a049416489b38334a7fd86ec",
       "version_major": 2,
       "version_minor": 0
      },
      "text/plain": [
       "Map(center=[41.888, 12.5215], controls=(ZoomControl(options=['position', 'zoom_in_text', 'zoom_in_title', 'zoo…"
      ]
     },
     "metadata": {},
     "output_type": "display_data"
    }
   ],
   "source": [
    "m"
   ]
  },
  {
   "cell_type": "code",
   "execution_count": 10,
   "metadata": {},
   "outputs": [
    {
     "data": {
      "text/plain": [
       "Index(['long', 'lat', 'timestamp', 'geometry', 'is_core', 'label'], dtype='object')"
      ]
     },
     "execution_count": 10,
     "metadata": {},
     "output_type": "execute_result"
    }
   ],
   "source": [
    "italy_gdf.columns"
   ]
  },
  {
   "cell_type": "markdown",
   "metadata": {},
   "source": [
    "## Teil 2: Segmentierung von Triplegs\n",
    "\n"
   ]
  },
  {
   "cell_type": "markdown",
   "metadata": {},
   "source": [
    "\n",
    "\n",
    "x\ty\ttimestamp_norm\tlabel\tgeometry\ttimestamp\tis_core\n",
    "0\t294810.534620\t4.645718e+06\t46952.298112\t-1.0\tPOINT (12.52493 41.93676)\t2014-02-02 14:32:17.886734"
   ]
  },
  {
   "cell_type": "code",
   "execution_count": 11,
   "metadata": {},
   "outputs": [
    {
     "data": {
      "text/html": [
       "<div>\n",
       "<style scoped>\n",
       "    .dataframe tbody tr th:only-of-type {\n",
       "        vertical-align: middle;\n",
       "    }\n",
       "\n",
       "    .dataframe tbody tr th {\n",
       "        vertical-align: top;\n",
       "    }\n",
       "\n",
       "    .dataframe thead th {\n",
       "        text-align: right;\n",
       "    }\n",
       "</style>\n",
       "<table border=\"1\" class=\"dataframe\">\n",
       "  <thead>\n",
       "    <tr style=\"text-align: right;\">\n",
       "      <th></th>\n",
       "      <th>timestamp</th>\n",
       "      <th>label</th>\n",
       "      <th>geometry</th>\n",
       "    </tr>\n",
       "  </thead>\n",
       "  <tbody>\n",
       "    <tr>\n",
       "      <th>380</th>\n",
       "      <td>2014-02-02 16:02:58.614868</td>\n",
       "      <td>-1</td>\n",
       "      <td>POINT (12.46918 41.90565)</td>\n",
       "    </tr>\n",
       "    <tr>\n",
       "      <th>381</th>\n",
       "      <td>2014-02-02 16:03:13.260344</td>\n",
       "      <td>-1</td>\n",
       "      <td>POINT (12.46901 41.90554)</td>\n",
       "    </tr>\n",
       "    <tr>\n",
       "      <th>382</th>\n",
       "      <td>2014-02-02 16:03:28.936004</td>\n",
       "      <td>-1</td>\n",
       "      <td>POINT (12.46901 41.90554)</td>\n",
       "    </tr>\n",
       "    <tr>\n",
       "      <th>383</th>\n",
       "      <td>2014-02-02 16:03:43.393432</td>\n",
       "      <td>0</td>\n",
       "      <td>POINT (12.46891 41.90550)</td>\n",
       "    </tr>\n",
       "    <tr>\n",
       "      <th>384</th>\n",
       "      <td>2014-02-02 16:03:58.530495</td>\n",
       "      <td>0</td>\n",
       "      <td>POINT (12.46891 41.90550)</td>\n",
       "    </tr>\n",
       "    <tr>\n",
       "      <th>385</th>\n",
       "      <td>2014-02-02 16:04:13.319161</td>\n",
       "      <td>0</td>\n",
       "      <td>POINT (12.46891 41.90550)</td>\n",
       "    </tr>\n",
       "    <tr>\n",
       "      <th>386</th>\n",
       "      <td>2014-02-02 16:04:27.911029</td>\n",
       "      <td>0</td>\n",
       "      <td>POINT (12.46891 41.90550)</td>\n",
       "    </tr>\n",
       "    <tr>\n",
       "      <th>387</th>\n",
       "      <td>2014-02-02 16:04:45.169180</td>\n",
       "      <td>0</td>\n",
       "      <td>POINT (12.46891 41.90550)</td>\n",
       "    </tr>\n",
       "    <tr>\n",
       "      <th>388</th>\n",
       "      <td>2014-02-02 16:04:58.274886</td>\n",
       "      <td>0</td>\n",
       "      <td>POINT (12.46891 41.90550)</td>\n",
       "    </tr>\n",
       "    <tr>\n",
       "      <th>389</th>\n",
       "      <td>2014-02-02 16:05:12.881226</td>\n",
       "      <td>0</td>\n",
       "      <td>POINT (12.46891 41.90550)</td>\n",
       "    </tr>\n",
       "    <tr>\n",
       "      <th>390</th>\n",
       "      <td>2014-02-02 16:05:28.320058</td>\n",
       "      <td>0</td>\n",
       "      <td>POINT (12.46891 41.90550)</td>\n",
       "    </tr>\n",
       "    <tr>\n",
       "      <th>391</th>\n",
       "      <td>2014-02-02 16:05:43.579940</td>\n",
       "      <td>0</td>\n",
       "      <td>POINT (12.46891 41.90550)</td>\n",
       "    </tr>\n",
       "    <tr>\n",
       "      <th>392</th>\n",
       "      <td>2014-02-02 16:05:57.912457</td>\n",
       "      <td>0</td>\n",
       "      <td>POINT (12.46891 41.90550)</td>\n",
       "    </tr>\n",
       "    <tr>\n",
       "      <th>393</th>\n",
       "      <td>2014-02-02 16:06:12.913158</td>\n",
       "      <td>0</td>\n",
       "      <td>POINT (12.46891 41.90550)</td>\n",
       "    </tr>\n",
       "    <tr>\n",
       "      <th>394</th>\n",
       "      <td>2014-02-02 16:06:27.912996</td>\n",
       "      <td>0</td>\n",
       "      <td>POINT (12.46891 41.90550)</td>\n",
       "    </tr>\n",
       "    <tr>\n",
       "      <th>395</th>\n",
       "      <td>2014-02-02 16:06:43.281689</td>\n",
       "      <td>0</td>\n",
       "      <td>POINT (12.46891 41.90550)</td>\n",
       "    </tr>\n",
       "    <tr>\n",
       "      <th>396</th>\n",
       "      <td>2014-02-02 16:06:57.881733</td>\n",
       "      <td>0</td>\n",
       "      <td>POINT (12.46891 41.90550)</td>\n",
       "    </tr>\n",
       "    <tr>\n",
       "      <th>397</th>\n",
       "      <td>2014-02-02 16:07:12.919115</td>\n",
       "      <td>0</td>\n",
       "      <td>POINT (12.46888 41.90548)</td>\n",
       "    </tr>\n",
       "    <tr>\n",
       "      <th>398</th>\n",
       "      <td>2014-02-02 16:07:28.362799</td>\n",
       "      <td>0</td>\n",
       "      <td>POINT (12.46886 41.90546)</td>\n",
       "    </tr>\n",
       "    <tr>\n",
       "      <th>399</th>\n",
       "      <td>2014-02-02 16:07:43.296153</td>\n",
       "      <td>0</td>\n",
       "      <td>POINT (12.46886 41.90546)</td>\n",
       "    </tr>\n",
       "    <tr>\n",
       "      <th>400</th>\n",
       "      <td>2014-02-02 16:07:58.286626</td>\n",
       "      <td>0</td>\n",
       "      <td>POINT (12.46886 41.90546)</td>\n",
       "    </tr>\n",
       "    <tr>\n",
       "      <th>401</th>\n",
       "      <td>2014-02-02 16:08:13.274621</td>\n",
       "      <td>0</td>\n",
       "      <td>POINT (12.46886 41.90546)</td>\n",
       "    </tr>\n",
       "    <tr>\n",
       "      <th>402</th>\n",
       "      <td>2014-02-02 16:08:27.913555</td>\n",
       "      <td>0</td>\n",
       "      <td>POINT (12.46886 41.90546)</td>\n",
       "    </tr>\n",
       "    <tr>\n",
       "      <th>403</th>\n",
       "      <td>2014-02-02 16:08:42.913844</td>\n",
       "      <td>0</td>\n",
       "      <td>POINT (12.46886 41.90545)</td>\n",
       "    </tr>\n",
       "    <tr>\n",
       "      <th>404</th>\n",
       "      <td>2014-02-02 16:08:57.923343</td>\n",
       "      <td>0</td>\n",
       "      <td>POINT (12.46886 41.90545)</td>\n",
       "    </tr>\n",
       "    <tr>\n",
       "      <th>405</th>\n",
       "      <td>2014-02-02 16:09:12.916026</td>\n",
       "      <td>0</td>\n",
       "      <td>POINT (12.46882 41.90543)</td>\n",
       "    </tr>\n",
       "    <tr>\n",
       "      <th>406</th>\n",
       "      <td>2014-02-02 16:09:29.297775</td>\n",
       "      <td>-1</td>\n",
       "      <td>POINT (12.46855 41.90538)</td>\n",
       "    </tr>\n",
       "    <tr>\n",
       "      <th>407</th>\n",
       "      <td>2014-02-02 16:10:40.313884</td>\n",
       "      <td>-1</td>\n",
       "      <td>POINT (12.46564 41.90732)</td>\n",
       "    </tr>\n",
       "    <tr>\n",
       "      <th>408</th>\n",
       "      <td>2014-02-02 16:10:40.314621</td>\n",
       "      <td>-1</td>\n",
       "      <td>POINT (12.46564 41.90732)</td>\n",
       "    </tr>\n",
       "    <tr>\n",
       "      <th>409</th>\n",
       "      <td>2014-02-02 16:10:41.022349</td>\n",
       "      <td>-1</td>\n",
       "      <td>POINT (12.46564 41.90732)</td>\n",
       "    </tr>\n",
       "    <tr>\n",
       "      <th>410</th>\n",
       "      <td>2014-02-02 16:10:41.022901</td>\n",
       "      <td>-1</td>\n",
       "      <td>POINT (12.46564 41.90732)</td>\n",
       "    </tr>\n",
       "    <tr>\n",
       "      <th>411</th>\n",
       "      <td>2014-02-02 16:10:41.196197</td>\n",
       "      <td>-1</td>\n",
       "      <td>POINT (12.46564 41.90732)</td>\n",
       "    </tr>\n",
       "    <tr>\n",
       "      <th>412</th>\n",
       "      <td>2014-02-02 16:10:43.392934</td>\n",
       "      <td>-1</td>\n",
       "      <td>POINT (12.46543 41.90729)</td>\n",
       "    </tr>\n",
       "    <tr>\n",
       "      <th>413</th>\n",
       "      <td>2014-02-02 16:10:46.422516</td>\n",
       "      <td>-1</td>\n",
       "      <td>POINT (12.46526 41.90726)</td>\n",
       "    </tr>\n",
       "    <tr>\n",
       "      <th>414</th>\n",
       "      <td>2014-02-02 16:10:46.423126</td>\n",
       "      <td>-1</td>\n",
       "      <td>POINT (12.46526 41.90726)</td>\n",
       "    </tr>\n",
       "    <tr>\n",
       "      <th>415</th>\n",
       "      <td>2014-02-02 16:10:47.830279</td>\n",
       "      <td>-1</td>\n",
       "      <td>POINT (12.46526 41.90726)</td>\n",
       "    </tr>\n",
       "    <tr>\n",
       "      <th>416</th>\n",
       "      <td>2014-02-02 16:11:03.244793</td>\n",
       "      <td>-1</td>\n",
       "      <td>POINT (12.46386 41.90707)</td>\n",
       "    </tr>\n",
       "    <tr>\n",
       "      <th>417</th>\n",
       "      <td>2014-02-02 16:11:17.854885</td>\n",
       "      <td>-1</td>\n",
       "      <td>POINT (12.46295 41.90694)</td>\n",
       "    </tr>\n",
       "    <tr>\n",
       "      <th>418</th>\n",
       "      <td>2014-02-02 16:11:32.849597</td>\n",
       "      <td>-1</td>\n",
       "      <td>POINT (12.46270 41.90757)</td>\n",
       "    </tr>\n",
       "    <tr>\n",
       "      <th>419</th>\n",
       "      <td>2014-02-02 16:11:48.164386</td>\n",
       "      <td>-1</td>\n",
       "      <td>POINT (12.46227 41.90876)</td>\n",
       "    </tr>\n",
       "    <tr>\n",
       "      <th>420</th>\n",
       "      <td>2014-02-02 16:12:01.781292</td>\n",
       "      <td>-1</td>\n",
       "      <td>POINT (12.46199 41.90945)</td>\n",
       "    </tr>\n",
       "  </tbody>\n",
       "</table>\n",
       "</div>"
      ],
      "text/plain": [
       "                     timestamp  label                   geometry\n",
       "380 2014-02-02 16:02:58.614868     -1  POINT (12.46918 41.90565)\n",
       "381 2014-02-02 16:03:13.260344     -1  POINT (12.46901 41.90554)\n",
       "382 2014-02-02 16:03:28.936004     -1  POINT (12.46901 41.90554)\n",
       "383 2014-02-02 16:03:43.393432      0  POINT (12.46891 41.90550)\n",
       "384 2014-02-02 16:03:58.530495      0  POINT (12.46891 41.90550)\n",
       "385 2014-02-02 16:04:13.319161      0  POINT (12.46891 41.90550)\n",
       "386 2014-02-02 16:04:27.911029      0  POINT (12.46891 41.90550)\n",
       "387 2014-02-02 16:04:45.169180      0  POINT (12.46891 41.90550)\n",
       "388 2014-02-02 16:04:58.274886      0  POINT (12.46891 41.90550)\n",
       "389 2014-02-02 16:05:12.881226      0  POINT (12.46891 41.90550)\n",
       "390 2014-02-02 16:05:28.320058      0  POINT (12.46891 41.90550)\n",
       "391 2014-02-02 16:05:43.579940      0  POINT (12.46891 41.90550)\n",
       "392 2014-02-02 16:05:57.912457      0  POINT (12.46891 41.90550)\n",
       "393 2014-02-02 16:06:12.913158      0  POINT (12.46891 41.90550)\n",
       "394 2014-02-02 16:06:27.912996      0  POINT (12.46891 41.90550)\n",
       "395 2014-02-02 16:06:43.281689      0  POINT (12.46891 41.90550)\n",
       "396 2014-02-02 16:06:57.881733      0  POINT (12.46891 41.90550)\n",
       "397 2014-02-02 16:07:12.919115      0  POINT (12.46888 41.90548)\n",
       "398 2014-02-02 16:07:28.362799      0  POINT (12.46886 41.90546)\n",
       "399 2014-02-02 16:07:43.296153      0  POINT (12.46886 41.90546)\n",
       "400 2014-02-02 16:07:58.286626      0  POINT (12.46886 41.90546)\n",
       "401 2014-02-02 16:08:13.274621      0  POINT (12.46886 41.90546)\n",
       "402 2014-02-02 16:08:27.913555      0  POINT (12.46886 41.90546)\n",
       "403 2014-02-02 16:08:42.913844      0  POINT (12.46886 41.90545)\n",
       "404 2014-02-02 16:08:57.923343      0  POINT (12.46886 41.90545)\n",
       "405 2014-02-02 16:09:12.916026      0  POINT (12.46882 41.90543)\n",
       "406 2014-02-02 16:09:29.297775     -1  POINT (12.46855 41.90538)\n",
       "407 2014-02-02 16:10:40.313884     -1  POINT (12.46564 41.90732)\n",
       "408 2014-02-02 16:10:40.314621     -1  POINT (12.46564 41.90732)\n",
       "409 2014-02-02 16:10:41.022349     -1  POINT (12.46564 41.90732)\n",
       "410 2014-02-02 16:10:41.022901     -1  POINT (12.46564 41.90732)\n",
       "411 2014-02-02 16:10:41.196197     -1  POINT (12.46564 41.90732)\n",
       "412 2014-02-02 16:10:43.392934     -1  POINT (12.46543 41.90729)\n",
       "413 2014-02-02 16:10:46.422516     -1  POINT (12.46526 41.90726)\n",
       "414 2014-02-02 16:10:46.423126     -1  POINT (12.46526 41.90726)\n",
       "415 2014-02-02 16:10:47.830279     -1  POINT (12.46526 41.90726)\n",
       "416 2014-02-02 16:11:03.244793     -1  POINT (12.46386 41.90707)\n",
       "417 2014-02-02 16:11:17.854885     -1  POINT (12.46295 41.90694)\n",
       "418 2014-02-02 16:11:32.849597     -1  POINT (12.46270 41.90757)\n",
       "419 2014-02-02 16:11:48.164386     -1  POINT (12.46227 41.90876)\n",
       "420 2014-02-02 16:12:01.781292     -1  POINT (12.46199 41.90945)"
      ]
     },
     "execution_count": 11,
     "metadata": {},
     "output_type": "execute_result"
    }
   ],
   "source": [
    "pd.set_option('display.max_rows', 1000)\n",
    "trackpoint_list = italy_gdf[['timestamp', 'label', 'geometry']].values.tolist()\n",
    "italy_gdf.loc[380:420,['timestamp', 'label', 'geometry']]"
   ]
  },
  {
   "cell_type": "markdown",
   "metadata": {},
   "source": [
    "### Teil 2.1 Implementierung des Algorithmus"
   ]
  },
  {
   "cell_type": "code",
   "execution_count": null,
   "metadata": {},
   "outputs": [],
   "source": []
  },
  {
   "cell_type": "code",
   "execution_count": 12,
   "metadata": {},
   "outputs": [],
   "source": [
    "# initialize\n",
    "n = len(trackpoint_list)\n",
    "tripleg_list = []\n",
    "i = 0\n",
    "\n",
    "# iterate all trackpoints\n",
    "while (i < (n-1)):\n",
    "\n",
    "    # check if new tripleg begins\n",
    "    if trackpoint_list[i][1] == -1:\n",
    "        \n",
    "        \n",
    "        # store information from tripleg start\n",
    "        tripleg_previouslabel = trackpoint_list[i-1][1]\n",
    "        tripleg_starttime = trackpoint_list[i][0]\n",
    "        tripleg_point_list = []\n",
    "        \n",
    "        # iterate from start of tripleg until end of tripleg\n",
    "        j = i\n",
    "        while j < (n -1) and trackpoint_list[j][1] == -1: \n",
    "        \n",
    "            # store trackpoints of tripleg\n",
    "            tripleg_point_list.append(trackpoint_list[j][2])\n",
    "            j +=1\n",
    "                    \n",
    "        # end of tripleg\n",
    "        \n",
    "        # if we have at least 2 points in the tripleg_point_list, we store the tripleg \n",
    "        if len(tripleg_point_list) > 2:\n",
    "        \n",
    "            # collect tripleg information rember, j is now pointing on a staypoint and therefore on a non-tripleg point \n",
    "            tripleg_geometry = get_tripleg_geometry_from_points(tripleg_point_list)\n",
    "            tripleg_nextlabel = trackpoint_list[j][1]\n",
    "            tripleg_endtime = trackpoint_list[j-1][0]\n",
    "\n",
    "            # append tripleg information (as tuple or list) to the 'tripleg_list'.\n",
    "            # The order has to be (tripleg_previous_label, tripleg_nextlabel, tripleg_starttime, tripleg_endtime, tripleg_geometry)\n",
    "            tripleg_list.append((tripleg_previouslabel, tripleg_nextlabel, tripleg_starttime, tripleg_endtime, tripleg_geometry))\n",
    "        \n",
    "        # set i counter to the next point non-tripleg point\n",
    "        i = j\n",
    "        \n",
    "\n",
    "                \n",
    "    else:\n",
    "        i +=1           "
   ]
  },
  {
   "cell_type": "markdown",
   "metadata": {},
   "source": []
  },
  {
   "cell_type": "code",
   "execution_count": null,
   "metadata": {},
   "outputs": [],
   "source": []
  },
  {
   "cell_type": "markdown",
   "metadata": {},
   "source": [
    "### 2.2 Visualisierung der Ergebnisse:\n",
    "Um die Ergebnisse zu visualisieren, brauchen wir zunächst wieder geodataframes"
   ]
  },
  {
   "cell_type": "code",
   "execution_count": 13,
   "metadata": {},
   "outputs": [],
   "source": [
    "# transform data into a geodataframe. 'tripleg_list' has to be a list of tuples e.g.,\n",
    "#(cluster_start, cluster_end, start_time, end_time, geometry) or a list of lists with the same order of items\n",
    "tripleg_gdf = pd.DataFrame(tripleg_list, columns=['prevlabel', 'nextlabel', 'start_time', 'end_time', 'geometry'])\n",
    "tripleg_gdf = gpd.GeoDataFrame(tripleg_gdf, geometry=tripleg_gdf.geometry, crs=crs_wgs84)\n",
    "\n",
    "# transform timestamps to strings for plotting\n",
    "tripleg_gdf['start_time'] = tripleg_gdf['start_time'].dt.strftime(\"%Y-%m-%d %H:%M:%S\")\n",
    "tripleg_gdf['end_time'] = tripleg_gdf['end_time'].dt.strftime(\"%Y-%m-%d %H:%M:%S\")"
   ]
  },
  {
   "cell_type": "markdown",
   "metadata": {},
   "source": [
    "Initialize map"
   ]
  },
  {
   "cell_type": "code",
   "execution_count": 14,
   "metadata": {},
   "outputs": [
    {
     "data": {
      "application/vnd.jupyter.widget-view+json": {
       "model_id": "a8e289d23f0c43a2a3a314fcca74088c",
       "version_major": 2,
       "version_minor": 0
      },
      "text/plain": [
       "Map(center=[41.8881987655463, 12.5215863435528], controls=(ZoomControl(options=['position', 'zoom_in_text', 'z…"
      ]
     },
     "metadata": {},
     "output_type": "display_data"
    }
   ],
   "source": [
    "m = ipy.Map(center=(41.8881987655463, 12.5215863435528), zoom = 12) # basemap= ipy.basemaps.Esri.WorldTopoMap)\n",
    "min_label = 6\n",
    "max_label = 8\n",
    "m.add_control(ipy.LayersControl())\n",
    "m.add_control(tripleg_info_box)\n",
    "m.add_layer(layer_noise)\n",
    "m.add_layer(layer_sp)\n",
    "m"
   ]
  },
  {
   "cell_type": "markdown",
   "metadata": {},
   "source": []
  },
  {
   "cell_type": "code",
   "execution_count": 15,
   "metadata": {},
   "outputs": [],
   "source": [
    "# add one tripleg\n",
    "#geo_data = ipy.GeoData(geo_dataframe=tripleg_gdf[tripleg_gdf['prevlabel']==19], name='triplegs', style=tripleg_style, hover_style=tripleg_hoverstyle)\n",
    "\n",
    "# add a range of triplegs (recommended)\n",
    "tripleg_gdf_filtered = filter_by_label(tripleg_gdf, min_label, max_label, label_col_name='prevlabel')\n",
    "geo_data = ipy.GeoData(geo_dataframe=tripleg_gdf_filtered, name='triplegs', style=tripleg_style, hover_style=tripleg_hoverstyle)\n",
    "\n",
    "# add all triplegs\n",
    "#geo_data = ipy.GeoData(geo_dataframe=tripleg_gdf, name='triplegs', style=tripleg_style, hover_style=tripleg_hoverstyle)\n",
    "\n",
    "geo_data.on_hover(tripleg_hover_info)\n",
    "m.add_layer(geo_data)\n"
   ]
  },
  {
   "cell_type": "code",
   "execution_count": null,
   "metadata": {},
   "outputs": [],
   "source": []
  },
  {
   "cell_type": "code",
   "execution_count": 16,
   "metadata": {},
   "outputs": [
    {
     "data": {
      "text/html": [
       "<div>\n",
       "<style scoped>\n",
       "    .dataframe tbody tr th:only-of-type {\n",
       "        vertical-align: middle;\n",
       "    }\n",
       "\n",
       "    .dataframe tbody tr th {\n",
       "        vertical-align: top;\n",
       "    }\n",
       "\n",
       "    .dataframe thead th {\n",
       "        text-align: right;\n",
       "    }\n",
       "</style>\n",
       "<table border=\"1\" class=\"dataframe\">\n",
       "  <thead>\n",
       "    <tr style=\"text-align: right;\">\n",
       "      <th></th>\n",
       "      <th>prevlabel</th>\n",
       "      <th>nextlabel</th>\n",
       "      <th>start_time</th>\n",
       "      <th>end_time</th>\n",
       "      <th>geometry</th>\n",
       "    </tr>\n",
       "  </thead>\n",
       "  <tbody>\n",
       "    <tr>\n",
       "      <th>0</th>\n",
       "      <td>-1</td>\n",
       "      <td>0</td>\n",
       "      <td>2014-02-02 14:32:17</td>\n",
       "      <td>2014-02-02 16:03:28</td>\n",
       "      <td>LINESTRING (12.52493 41.93676, 12.52493 41.936...</td>\n",
       "    </tr>\n",
       "    <tr>\n",
       "      <th>1</th>\n",
       "      <td>0</td>\n",
       "      <td>1</td>\n",
       "      <td>2014-02-02 16:09:29</td>\n",
       "      <td>2014-02-02 16:47:56</td>\n",
       "      <td>LINESTRING (12.46855 41.90538, 12.46564 41.907...</td>\n",
       "    </tr>\n",
       "    <tr>\n",
       "      <th>2</th>\n",
       "      <td>2</td>\n",
       "      <td>3</td>\n",
       "      <td>2014-02-02 17:00:09</td>\n",
       "      <td>2014-02-02 17:30:05</td>\n",
       "      <td>LINESTRING (12.50092 41.90116, 12.50075 41.901...</td>\n",
       "    </tr>\n",
       "    <tr>\n",
       "      <th>3</th>\n",
       "      <td>3</td>\n",
       "      <td>4</td>\n",
       "      <td>2014-02-02 17:32:50</td>\n",
       "      <td>2014-02-02 17:35:05</td>\n",
       "      <td>LINESTRING (12.50196 41.90265, 12.50202 41.902...</td>\n",
       "    </tr>\n",
       "    <tr>\n",
       "      <th>4</th>\n",
       "      <td>4</td>\n",
       "      <td>5</td>\n",
       "      <td>2014-02-02 17:39:06</td>\n",
       "      <td>2014-02-02 17:40:52</td>\n",
       "      <td>LINESTRING (12.50249 41.90209, 12.50251 41.902...</td>\n",
       "    </tr>\n",
       "    <tr>\n",
       "      <th>5</th>\n",
       "      <td>6</td>\n",
       "      <td>7</td>\n",
       "      <td>2014-02-02 17:54:38</td>\n",
       "      <td>2014-02-02 18:16:42</td>\n",
       "      <td>LINESTRING (12.50284 41.90198, 12.50280 41.901...</td>\n",
       "    </tr>\n",
       "    <tr>\n",
       "      <th>6</th>\n",
       "      <td>7</td>\n",
       "      <td>8</td>\n",
       "      <td>2014-02-02 18:21:00</td>\n",
       "      <td>2014-02-02 19:34:51</td>\n",
       "      <td>LINESTRING (12.49201 41.91792, 12.49263 41.917...</td>\n",
       "    </tr>\n",
       "    <tr>\n",
       "      <th>7</th>\n",
       "      <td>8</td>\n",
       "      <td>8</td>\n",
       "      <td>2014-02-02 19:36:21</td>\n",
       "      <td>2014-02-02 19:38:06</td>\n",
       "      <td>LINESTRING (12.53010 41.90983, 12.53010 41.909...</td>\n",
       "    </tr>\n",
       "    <tr>\n",
       "      <th>8</th>\n",
       "      <td>8</td>\n",
       "      <td>9</td>\n",
       "      <td>2014-02-02 19:40:06</td>\n",
       "      <td>2014-02-02 21:07:28</td>\n",
       "      <td>LINESTRING (12.52989 41.90977, 12.52989 41.909...</td>\n",
       "    </tr>\n",
       "    <tr>\n",
       "      <th>9</th>\n",
       "      <td>9</td>\n",
       "      <td>10</td>\n",
       "      <td>2014-02-02 21:12:43</td>\n",
       "      <td>2014-02-02 21:13:58</td>\n",
       "      <td>LINESTRING (12.47289 41.89700, 12.47288 41.897...</td>\n",
       "    </tr>\n",
       "    <tr>\n",
       "      <th>10</th>\n",
       "      <td>10</td>\n",
       "      <td>11</td>\n",
       "      <td>2014-02-02 21:16:42</td>\n",
       "      <td>2014-02-02 21:18:58</td>\n",
       "      <td>LINESTRING (12.47284 41.89705, 12.47310 41.897...</td>\n",
       "    </tr>\n",
       "    <tr>\n",
       "      <th>11</th>\n",
       "      <td>11</td>\n",
       "      <td>12</td>\n",
       "      <td>2014-02-02 21:26:58</td>\n",
       "      <td>2014-02-02 21:27:59</td>\n",
       "      <td>LINESTRING (12.47280 41.89704, 12.47267 41.897...</td>\n",
       "    </tr>\n",
       "    <tr>\n",
       "      <th>12</th>\n",
       "      <td>13</td>\n",
       "      <td>14</td>\n",
       "      <td>2014-02-02 21:41:13</td>\n",
       "      <td>2014-02-02 22:20:13</td>\n",
       "      <td>LINESTRING (12.47252 41.89708, 12.47255 41.896...</td>\n",
       "    </tr>\n",
       "    <tr>\n",
       "      <th>13</th>\n",
       "      <td>14</td>\n",
       "      <td>15</td>\n",
       "      <td>2014-02-02 22:31:28</td>\n",
       "      <td>2014-02-02 22:33:28</td>\n",
       "      <td>LINESTRING (12.50096 41.90123, 12.50096 41.901...</td>\n",
       "    </tr>\n",
       "    <tr>\n",
       "      <th>14</th>\n",
       "      <td>16</td>\n",
       "      <td>17</td>\n",
       "      <td>2014-02-02 22:40:13</td>\n",
       "      <td>2014-02-02 23:20:23</td>\n",
       "      <td>LINESTRING (12.50071 41.90092, 12.50071 41.900...</td>\n",
       "    </tr>\n",
       "    <tr>\n",
       "      <th>15</th>\n",
       "      <td>17</td>\n",
       "      <td>17</td>\n",
       "      <td>2014-02-02 23:33:09</td>\n",
       "      <td>2014-02-02 23:33:39</td>\n",
       "      <td>LINESTRING (12.46954 41.89237, 12.46954 41.892...</td>\n",
       "    </tr>\n",
       "    <tr>\n",
       "      <th>16</th>\n",
       "      <td>17</td>\n",
       "      <td>18</td>\n",
       "      <td>2014-02-02 23:37:08</td>\n",
       "      <td>2014-02-02 23:37:38</td>\n",
       "      <td>LINESTRING (12.46969 41.89230, 12.46966 41.892...</td>\n",
       "    </tr>\n",
       "    <tr>\n",
       "      <th>17</th>\n",
       "      <td>18</td>\n",
       "      <td>18</td>\n",
       "      <td>2014-02-02 23:38:08</td>\n",
       "      <td>2014-02-02 23:41:53</td>\n",
       "      <td>LINESTRING (12.46977 41.89226, 12.46981 41.892...</td>\n",
       "    </tr>\n",
       "    <tr>\n",
       "      <th>18</th>\n",
       "      <td>18</td>\n",
       "      <td>18</td>\n",
       "      <td>2014-02-02 23:57:54</td>\n",
       "      <td>2014-02-02 23:58:38</td>\n",
       "      <td>LINESTRING (12.46971 41.89217, 12.46970 41.892...</td>\n",
       "    </tr>\n",
       "    <tr>\n",
       "      <th>19</th>\n",
       "      <td>18</td>\n",
       "      <td>18</td>\n",
       "      <td>2014-02-03 00:01:38</td>\n",
       "      <td>2014-02-03 00:02:08</td>\n",
       "      <td>LINESTRING (12.46995 41.89200, 12.46997 41.891...</td>\n",
       "    </tr>\n",
       "    <tr>\n",
       "      <th>20</th>\n",
       "      <td>18</td>\n",
       "      <td>19</td>\n",
       "      <td>2014-02-03 00:05:23</td>\n",
       "      <td>2014-02-03 00:49:31</td>\n",
       "      <td>LINESTRING (12.47057 41.89164, 12.47230 41.890...</td>\n",
       "    </tr>\n",
       "    <tr>\n",
       "      <th>21</th>\n",
       "      <td>19</td>\n",
       "      <td>20</td>\n",
       "      <td>2014-02-03 01:13:46</td>\n",
       "      <td>2014-02-03 15:29:17</td>\n",
       "      <td>LINESTRING (12.50477 41.97149, 12.50476 41.971...</td>\n",
       "    </tr>\n",
       "    <tr>\n",
       "      <th>22</th>\n",
       "      <td>20</td>\n",
       "      <td>21</td>\n",
       "      <td>2014-02-03 15:32:47</td>\n",
       "      <td>2014-02-03 16:01:01</td>\n",
       "      <td>LINESTRING (12.46758 41.90131, 12.46962 41.901...</td>\n",
       "    </tr>\n",
       "    <tr>\n",
       "      <th>23</th>\n",
       "      <td>21</td>\n",
       "      <td>22</td>\n",
       "      <td>2014-02-03 16:06:00</td>\n",
       "      <td>2014-02-03 16:08:01</td>\n",
       "      <td>LINESTRING (12.50119 41.90301, 12.50126 41.902...</td>\n",
       "    </tr>\n",
       "    <tr>\n",
       "      <th>24</th>\n",
       "      <td>23</td>\n",
       "      <td>24</td>\n",
       "      <td>2014-02-03 16:18:30</td>\n",
       "      <td>2014-02-03 16:20:15</td>\n",
       "      <td>LINESTRING (12.50203 41.90254, 12.50206 41.902...</td>\n",
       "    </tr>\n",
       "    <tr>\n",
       "      <th>25</th>\n",
       "      <td>24</td>\n",
       "      <td>25</td>\n",
       "      <td>2014-02-03 16:22:23</td>\n",
       "      <td>2014-02-03 16:22:53</td>\n",
       "      <td>LINESTRING (12.50254 41.90216, 12.50254 41.902...</td>\n",
       "    </tr>\n",
       "    <tr>\n",
       "      <th>26</th>\n",
       "      <td>25</td>\n",
       "      <td>26</td>\n",
       "      <td>2014-02-03 16:28:23</td>\n",
       "      <td>2014-02-03 17:12:42</td>\n",
       "      <td>LINESTRING (12.50271 41.90206, 12.50291 41.902...</td>\n",
       "    </tr>\n",
       "    <tr>\n",
       "      <th>27</th>\n",
       "      <td>26</td>\n",
       "      <td>27</td>\n",
       "      <td>2014-02-03 17:17:29</td>\n",
       "      <td>2014-02-03 17:40:21</td>\n",
       "      <td>LINESTRING (12.49206 41.91793, 12.49257 41.917...</td>\n",
       "    </tr>\n",
       "    <tr>\n",
       "      <th>28</th>\n",
       "      <td>29</td>\n",
       "      <td>29</td>\n",
       "      <td>2014-02-03 17:57:51</td>\n",
       "      <td>2014-02-03 18:00:52</td>\n",
       "      <td>LINESTRING (12.49017 41.90742, 12.49017 41.907...</td>\n",
       "    </tr>\n",
       "    <tr>\n",
       "      <th>29</th>\n",
       "      <td>29</td>\n",
       "      <td>30</td>\n",
       "      <td>2014-02-03 18:01:06</td>\n",
       "      <td>2014-02-03 19:25:41</td>\n",
       "      <td>LINESTRING (12.48932 41.90995, 12.48873 41.909...</td>\n",
       "    </tr>\n",
       "    <tr>\n",
       "      <th>30</th>\n",
       "      <td>30</td>\n",
       "      <td>31</td>\n",
       "      <td>2014-02-03 19:32:41</td>\n",
       "      <td>2014-02-03 20:10:10</td>\n",
       "      <td>LINESTRING (12.27598 41.79533, 12.27611 41.794...</td>\n",
       "    </tr>\n",
       "    <tr>\n",
       "      <th>31</th>\n",
       "      <td>31</td>\n",
       "      <td>32</td>\n",
       "      <td>2014-02-03 20:15:56</td>\n",
       "      <td>2014-02-03 20:31:57</td>\n",
       "      <td>LINESTRING (12.47122 41.88822, 12.47110 41.888...</td>\n",
       "    </tr>\n",
       "    <tr>\n",
       "      <th>32</th>\n",
       "      <td>32</td>\n",
       "      <td>33</td>\n",
       "      <td>2014-02-03 20:41:10</td>\n",
       "      <td>2014-02-03 20:44:55</td>\n",
       "      <td>LINESTRING (12.49061 41.90758, 12.49017 41.907...</td>\n",
       "    </tr>\n",
       "    <tr>\n",
       "      <th>33</th>\n",
       "      <td>35</td>\n",
       "      <td>36</td>\n",
       "      <td>2014-02-03 21:03:55</td>\n",
       "      <td>2014-02-03 21:05:41</td>\n",
       "      <td>LINESTRING (12.50192 41.90296, 12.50212 41.902...</td>\n",
       "    </tr>\n",
       "    <tr>\n",
       "      <th>34</th>\n",
       "      <td>36</td>\n",
       "      <td>36</td>\n",
       "      <td>2014-02-03 21:06:41</td>\n",
       "      <td>2014-02-03 21:07:57</td>\n",
       "      <td>LINESTRING (12.50264 41.90226, 12.50267 41.902...</td>\n",
       "    </tr>\n",
       "    <tr>\n",
       "      <th>35</th>\n",
       "      <td>36</td>\n",
       "      <td>37</td>\n",
       "      <td>2014-02-03 21:14:42</td>\n",
       "      <td>2014-02-03 21:31:42</td>\n",
       "      <td>LINESTRING (12.50270 41.90195, 12.50271 41.901...</td>\n",
       "    </tr>\n",
       "    <tr>\n",
       "      <th>36</th>\n",
       "      <td>37</td>\n",
       "      <td>38</td>\n",
       "      <td>2014-02-03 21:38:24</td>\n",
       "      <td>2014-02-03 21:52:25</td>\n",
       "      <td>LINESTRING (12.51283 41.90772, 12.51219 41.907...</td>\n",
       "    </tr>\n",
       "    <tr>\n",
       "      <th>37</th>\n",
       "      <td>38</td>\n",
       "      <td>39</td>\n",
       "      <td>2014-02-03 21:55:24</td>\n",
       "      <td>2014-02-03 22:10:28</td>\n",
       "      <td>LINESTRING (12.52981 41.87691, 12.52863 41.876...</td>\n",
       "    </tr>\n",
       "    <tr>\n",
       "      <th>38</th>\n",
       "      <td>39</td>\n",
       "      <td>39</td>\n",
       "      <td>2014-02-03 22:16:13</td>\n",
       "      <td>2014-02-03 22:16:43</td>\n",
       "      <td>LINESTRING (12.50243 41.90215, 12.50242 41.902...</td>\n",
       "    </tr>\n",
       "    <tr>\n",
       "      <th>39</th>\n",
       "      <td>41</td>\n",
       "      <td>42</td>\n",
       "      <td>2014-02-03 22:32:13</td>\n",
       "      <td>2014-02-03 22:45:29</td>\n",
       "      <td>LINESTRING (12.50237 41.90230, 12.50246 41.902...</td>\n",
       "    </tr>\n",
       "    <tr>\n",
       "      <th>40</th>\n",
       "      <td>43</td>\n",
       "      <td>44</td>\n",
       "      <td>2014-02-03 23:08:58</td>\n",
       "      <td>2014-02-03 23:34:28</td>\n",
       "      <td>LINESTRING (12.46984 41.89227, 12.46984 41.892...</td>\n",
       "    </tr>\n",
       "    <tr>\n",
       "      <th>41</th>\n",
       "      <td>45</td>\n",
       "      <td>46</td>\n",
       "      <td>2014-02-03 23:55:28</td>\n",
       "      <td>2014-02-03 23:57:59</td>\n",
       "      <td>LINESTRING (12.51197 41.93326, 12.51197 41.933...</td>\n",
       "    </tr>\n",
       "    <tr>\n",
       "      <th>42</th>\n",
       "      <td>46</td>\n",
       "      <td>-1</td>\n",
       "      <td>2014-02-04 00:01:43</td>\n",
       "      <td>2014-02-04 00:09:58</td>\n",
       "      <td>LINESTRING (12.51170 41.93336, 12.51170 41.933...</td>\n",
       "    </tr>\n",
       "  </tbody>\n",
       "</table>\n",
       "</div>"
      ],
      "text/plain": [
       "    prevlabel  nextlabel           start_time             end_time  \\\n",
       "0          -1          0  2014-02-02 14:32:17  2014-02-02 16:03:28   \n",
       "1           0          1  2014-02-02 16:09:29  2014-02-02 16:47:56   \n",
       "2           2          3  2014-02-02 17:00:09  2014-02-02 17:30:05   \n",
       "3           3          4  2014-02-02 17:32:50  2014-02-02 17:35:05   \n",
       "4           4          5  2014-02-02 17:39:06  2014-02-02 17:40:52   \n",
       "5           6          7  2014-02-02 17:54:38  2014-02-02 18:16:42   \n",
       "6           7          8  2014-02-02 18:21:00  2014-02-02 19:34:51   \n",
       "7           8          8  2014-02-02 19:36:21  2014-02-02 19:38:06   \n",
       "8           8          9  2014-02-02 19:40:06  2014-02-02 21:07:28   \n",
       "9           9         10  2014-02-02 21:12:43  2014-02-02 21:13:58   \n",
       "10         10         11  2014-02-02 21:16:42  2014-02-02 21:18:58   \n",
       "11         11         12  2014-02-02 21:26:58  2014-02-02 21:27:59   \n",
       "12         13         14  2014-02-02 21:41:13  2014-02-02 22:20:13   \n",
       "13         14         15  2014-02-02 22:31:28  2014-02-02 22:33:28   \n",
       "14         16         17  2014-02-02 22:40:13  2014-02-02 23:20:23   \n",
       "15         17         17  2014-02-02 23:33:09  2014-02-02 23:33:39   \n",
       "16         17         18  2014-02-02 23:37:08  2014-02-02 23:37:38   \n",
       "17         18         18  2014-02-02 23:38:08  2014-02-02 23:41:53   \n",
       "18         18         18  2014-02-02 23:57:54  2014-02-02 23:58:38   \n",
       "19         18         18  2014-02-03 00:01:38  2014-02-03 00:02:08   \n",
       "20         18         19  2014-02-03 00:05:23  2014-02-03 00:49:31   \n",
       "21         19         20  2014-02-03 01:13:46  2014-02-03 15:29:17   \n",
       "22         20         21  2014-02-03 15:32:47  2014-02-03 16:01:01   \n",
       "23         21         22  2014-02-03 16:06:00  2014-02-03 16:08:01   \n",
       "24         23         24  2014-02-03 16:18:30  2014-02-03 16:20:15   \n",
       "25         24         25  2014-02-03 16:22:23  2014-02-03 16:22:53   \n",
       "26         25         26  2014-02-03 16:28:23  2014-02-03 17:12:42   \n",
       "27         26         27  2014-02-03 17:17:29  2014-02-03 17:40:21   \n",
       "28         29         29  2014-02-03 17:57:51  2014-02-03 18:00:52   \n",
       "29         29         30  2014-02-03 18:01:06  2014-02-03 19:25:41   \n",
       "30         30         31  2014-02-03 19:32:41  2014-02-03 20:10:10   \n",
       "31         31         32  2014-02-03 20:15:56  2014-02-03 20:31:57   \n",
       "32         32         33  2014-02-03 20:41:10  2014-02-03 20:44:55   \n",
       "33         35         36  2014-02-03 21:03:55  2014-02-03 21:05:41   \n",
       "34         36         36  2014-02-03 21:06:41  2014-02-03 21:07:57   \n",
       "35         36         37  2014-02-03 21:14:42  2014-02-03 21:31:42   \n",
       "36         37         38  2014-02-03 21:38:24  2014-02-03 21:52:25   \n",
       "37         38         39  2014-02-03 21:55:24  2014-02-03 22:10:28   \n",
       "38         39         39  2014-02-03 22:16:13  2014-02-03 22:16:43   \n",
       "39         41         42  2014-02-03 22:32:13  2014-02-03 22:45:29   \n",
       "40         43         44  2014-02-03 23:08:58  2014-02-03 23:34:28   \n",
       "41         45         46  2014-02-03 23:55:28  2014-02-03 23:57:59   \n",
       "42         46         -1  2014-02-04 00:01:43  2014-02-04 00:09:58   \n",
       "\n",
       "                                             geometry  \n",
       "0   LINESTRING (12.52493 41.93676, 12.52493 41.936...  \n",
       "1   LINESTRING (12.46855 41.90538, 12.46564 41.907...  \n",
       "2   LINESTRING (12.50092 41.90116, 12.50075 41.901...  \n",
       "3   LINESTRING (12.50196 41.90265, 12.50202 41.902...  \n",
       "4   LINESTRING (12.50249 41.90209, 12.50251 41.902...  \n",
       "5   LINESTRING (12.50284 41.90198, 12.50280 41.901...  \n",
       "6   LINESTRING (12.49201 41.91792, 12.49263 41.917...  \n",
       "7   LINESTRING (12.53010 41.90983, 12.53010 41.909...  \n",
       "8   LINESTRING (12.52989 41.90977, 12.52989 41.909...  \n",
       "9   LINESTRING (12.47289 41.89700, 12.47288 41.897...  \n",
       "10  LINESTRING (12.47284 41.89705, 12.47310 41.897...  \n",
       "11  LINESTRING (12.47280 41.89704, 12.47267 41.897...  \n",
       "12  LINESTRING (12.47252 41.89708, 12.47255 41.896...  \n",
       "13  LINESTRING (12.50096 41.90123, 12.50096 41.901...  \n",
       "14  LINESTRING (12.50071 41.90092, 12.50071 41.900...  \n",
       "15  LINESTRING (12.46954 41.89237, 12.46954 41.892...  \n",
       "16  LINESTRING (12.46969 41.89230, 12.46966 41.892...  \n",
       "17  LINESTRING (12.46977 41.89226, 12.46981 41.892...  \n",
       "18  LINESTRING (12.46971 41.89217, 12.46970 41.892...  \n",
       "19  LINESTRING (12.46995 41.89200, 12.46997 41.891...  \n",
       "20  LINESTRING (12.47057 41.89164, 12.47230 41.890...  \n",
       "21  LINESTRING (12.50477 41.97149, 12.50476 41.971...  \n",
       "22  LINESTRING (12.46758 41.90131, 12.46962 41.901...  \n",
       "23  LINESTRING (12.50119 41.90301, 12.50126 41.902...  \n",
       "24  LINESTRING (12.50203 41.90254, 12.50206 41.902...  \n",
       "25  LINESTRING (12.50254 41.90216, 12.50254 41.902...  \n",
       "26  LINESTRING (12.50271 41.90206, 12.50291 41.902...  \n",
       "27  LINESTRING (12.49206 41.91793, 12.49257 41.917...  \n",
       "28  LINESTRING (12.49017 41.90742, 12.49017 41.907...  \n",
       "29  LINESTRING (12.48932 41.90995, 12.48873 41.909...  \n",
       "30  LINESTRING (12.27598 41.79533, 12.27611 41.794...  \n",
       "31  LINESTRING (12.47122 41.88822, 12.47110 41.888...  \n",
       "32  LINESTRING (12.49061 41.90758, 12.49017 41.907...  \n",
       "33  LINESTRING (12.50192 41.90296, 12.50212 41.902...  \n",
       "34  LINESTRING (12.50264 41.90226, 12.50267 41.902...  \n",
       "35  LINESTRING (12.50270 41.90195, 12.50271 41.901...  \n",
       "36  LINESTRING (12.51283 41.90772, 12.51219 41.907...  \n",
       "37  LINESTRING (12.52981 41.87691, 12.52863 41.876...  \n",
       "38  LINESTRING (12.50243 41.90215, 12.50242 41.902...  \n",
       "39  LINESTRING (12.50237 41.90230, 12.50246 41.902...  \n",
       "40  LINESTRING (12.46984 41.89227, 12.46984 41.892...  \n",
       "41  LINESTRING (12.51197 41.93326, 12.51197 41.933...  \n",
       "42  LINESTRING (12.51170 41.93336, 12.51170 41.933...  "
      ]
     },
     "execution_count": 16,
     "metadata": {},
     "output_type": "execute_result"
    }
   ],
   "source": [
    "\n",
    "\n",
    "\n",
    "tripleg_gdf\n",
    "\n"
   ]
  },
  {
   "cell_type": "markdown",
   "metadata": {},
   "source": [
    "## Teil 3: Analyse der Triplegs (Bonus)"
   ]
  },
  {
   "cell_type": "markdown",
   "metadata": {},
   "source": [
    "### 3.1 Analyse der eigenschaften (Geschwindigkeit, Länge, Dauer)"
   ]
  },
  {
   "cell_type": "code",
   "execution_count": 17,
   "metadata": {},
   "outputs": [],
   "source": [
    "tripleg_gdf_2d = tripleg_gdf.to_crs(\"EPSG:25833\")"
   ]
  },
  {
   "cell_type": "code",
   "execution_count": null,
   "metadata": {},
   "outputs": [],
   "source": []
  },
  {
   "cell_type": "code",
   "execution_count": 18,
   "metadata": {},
   "outputs": [],
   "source": [
    "\n",
    "tripleg_gdf_2d['length'] = tripleg_gdf_2d.apply(lambda x: x.geometry.length, axis=1)\n",
    "tripleg_gdf_2d['start_time'] = pd.to_datetime(tripleg_gdf_2d['start_time'], utc=True, format=\"%Y-%m-%d %H:%M:%S\")\n",
    "tripleg_gdf_2d['end_time'] = pd.to_datetime(tripleg_gdf_2d['end_time'], utc=True, format=\"%Y-%m-%d %H:%M:%S\")\n",
    "tripleg_gdf_2d['duration'] = tripleg_gdf_2d['end_time'] - tripleg_gdf_2d['start_time']\n",
    "tripleg_gdf_2d['speed'] = (tripleg_gdf_2d['length']/1000)/ (tripleg_gdf_2d['duration'].dt.seconds/3600)\n",
    "tripleg_gdf_2d.replace([np.inf, -np.inf], np.nan, inplace=True)"
   ]
  },
  {
   "cell_type": "code",
   "execution_count": 19,
   "metadata": {},
   "outputs": [
    {
     "data": {
      "text/plain": [
       "Text(0.5, 1.0, 'speed')"
      ]
     },
     "execution_count": 19,
     "metadata": {},
     "output_type": "execute_result"
    },
    {
     "data": {
      "image/png": "[encoded data removed]",
      "text/plain": [
       "<Figure size 432x288 with 1 Axes>"
      ]
     },
     "metadata": {
      "needs_background": "light"
     },
     "output_type": "display_data"
    }
   ],
   "source": [
    "tripleg_gdf_2d['speed'].dropna().hist()\n",
    "plt.title('speed')"
   ]
  },
  {
   "cell_type": "code",
   "execution_count": 20,
   "metadata": {},
   "outputs": [
    {
     "data": {
      "text/plain": [
       "Text(0.5, 1.0, 'length in km')"
      ]
     },
     "execution_count": 20,
     "metadata": {},
     "output_type": "execute_result"
    },
    {
     "data": {
      "image/png": "[encoded data removed]",
      "text/plain": [
       "<Figure size 432x288 with 1 Axes>"
      ]
     },
     "metadata": {
      "needs_background": "light"
     },
     "output_type": "display_data"
    }
   ],
   "source": [
    "(tripleg_gdf_2d['length']/1000).hist(bins=20)\n",
    "plt.title('length in km')"
   ]
  },
  {
   "cell_type": "code",
   "execution_count": 21,
   "metadata": {},
   "outputs": [
    {
     "data": {
      "text/plain": [
       "Text(0.5, 1.0, 'duration in minutes')"
      ]
     },
     "execution_count": 21,
     "metadata": {},
     "output_type": "execute_result"
    },
    {
     "data": {
      "image/png": "[encoded data removed]",
      "text/plain": [
       "<Figure size 432x288 with 1 Axes>"
      ]
     },
     "metadata": {
      "needs_background": "light"
     },
     "output_type": "display_data"
    }
   ],
   "source": [
    "(tripleg_gdf_2d['duration'].dt.seconds/60).hist(bins=20)\n",
    "plt.title('duration in minutes')"
   ]
  },
  {
   "cell_type": "markdown",
   "metadata": {},
   "source": [
    "Investigate the outlier..."
   ]
  },
  {
   "cell_type": "markdown",
   "metadata": {},
   "source": [
    "###  3.2 Clustering über Distanzmetrik (frechet)"
   ]
  },
  {
   "cell_type": "code",
   "execution_count": 22,
   "metadata": {},
   "outputs": [],
   "source": [
    "# tripleg_gdf_2d_red = tripleg_gdf_2d.copy() # volle Matrix (dauert etwas...)\n",
    "tripleg_gdf_2d_red = tripleg_gdf_2d.iloc[0:15,:].copy()\n",
    "D_frechet = calculate_distance_matrix(tripleg_gdf_2d_red, distance='frechet')"
   ]
  },
  {
   "cell_type": "code",
   "execution_count": null,
   "metadata": {},
   "outputs": [],
   "source": []
  },
  {
   "cell_type": "code",
   "execution_count": 23,
   "metadata": {},
   "outputs": [
    {
     "data": {
      "text/plain": [
       "11855.957392200567"
      ]
     },
     "execution_count": 23,
     "metadata": {},
     "output_type": "execute_result"
    },
    {
     "data": {
      "image/png": "[encoded data removed]",
      "text/plain": [
       "<Figure size 432x288 with 1 Axes>"
      ]
     },
     "metadata": {
      "needs_background": "light"
     },
     "output_type": "display_data"
    }
   ],
   "source": [
    "plt.imshow(D_frechet)\n",
    "np.max(D_frechet)"
   ]
  },
  {
   "cell_type": "code",
   "execution_count": 24,
   "metadata": {},
   "outputs": [
    {
     "data": {
      "text/plain": [
       "array([0, 3, 3, 1, 1, 1, 2, 1, 2, 3, 3, 3, 0, 1, 0])"
      ]
     },
     "execution_count": 24,
     "metadata": {},
     "output_type": "execute_result"
    }
   ],
   "source": [
    "km = KMeans(n_clusters=4).fit(D_frechet)\n",
    "km.labels_"
   ]
  },
  {
   "cell_type": "code",
   "execution_count": 25,
   "metadata": {},
   "outputs": [],
   "source": [
    "tripleg_gdf_2d_red['tripleg_cluster'] = km.labels_ +1"
   ]
  },
  {
   "cell_type": "code",
   "execution_count": 26,
   "metadata": {},
   "outputs": [
    {
     "data": {
      "text/plain": [
       "<matplotlib.axes._subplots.AxesSubplot at 0x1b069da6b70>"
      ]
     },
     "execution_count": 26,
     "metadata": {},
     "output_type": "execute_result"
    },
    {
     "data": {
      "image/png": "[encoded data removed]",
      "text/plain": [
       "<Figure size 864x864 with 1 Axes>"
      ]
     },
     "metadata": {
      "needs_background": "light"
     },
     "output_type": "display_data"
    }
   ],
   "source": [
    "tripleg_gdf_2d_red.plot(column='tripleg_cluster', figsize=(12,12))"
   ]
  }
 ],
 "metadata": {
  "kernelspec": {
   "display_name": "Python 3",
   "language": "python",
   "name": "python3"
  },
  "language_info": {
   "codemirror_mode": {
    "name": "ipython",
    "version": 3
   },
   "file_extension": ".py",
   "mimetype": "text/x-python",
   "name": "python",
   "nbconvert_exporter": "python",
   "pygments_lexer": "ipython3",
   "version": "3.6.10"
  }
 },
 "nbformat": 4,
 "nbformat_minor": 4
}
