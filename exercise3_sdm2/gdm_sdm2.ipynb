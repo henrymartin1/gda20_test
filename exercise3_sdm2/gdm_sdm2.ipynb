{
 "cells": [
  {
   "cell_type": "markdown",
   "metadata": {},
   "source": [
    "# 3. Übung Geodatenanalyse\n",
    "## Analyse von Bewegungsdaten II\n",
    "\n",
    "In der heutigen Übung werden Sie aus GPS-Trackingdaten trajektorien extrahieren und diese anschliessend analysieren. Die Übung knüpft dabei direkt an die Übung 2 an und besteht aus folgenden teilen: \n",
    "\n",
    "- __Teil 1:__ Validierung der Ergebnisse aus Übung 2 (Extrahierung von Aufenthaltspunkten).\n",
    "- __Teil 2:__ Implementierung eines Algorithmus zur Segmentierung von trajektorien basierend auf bereits extrahierten Aufenthaltspunkten. \n",
    "- __Teil 3:__ Analyse der Trajektorien über Histogramme und durch die mittles Merkmalberechnung und über Clustering mit ähnlichkeitsmaasen (Fréchet Distanz)\n",
    "\n"
   ]
  },
  {
   "cell_type": "code",
   "execution_count": 1,
   "metadata": {},
   "outputs": [],
   "source": [
    "import datetime\n",
    "import pyproj\n",
    "\n",
    "import numpy as np\n",
    "import ipyleaflet as ipy \n",
    "import geopandas as gpd\n",
    "import json\n",
    "import pandas as pd\n",
    "import os\n",
    "from gda_sdm2_functions import read_romataxidata, apply_dbscan, transform, filter_by_label\n",
    "\n",
    "from ipywidgets import HTML\n",
    "from shapely.geometry import LineString\n",
    "\n",
    "import matplotlib.pyplot as plt\n",
    "import matplotlib\n",
    "import time\n",
    "\n"
   ]
  },
  {
   "cell_type": "markdown",
   "metadata": {},
   "source": [
    "## Validierung der Ergebnisse aus Übung 2\n",
    "\n",
    "### 2.1 Berechnen der Ergebnisse der letzten Übung\n",
    "Zuerst berechnen wir die Ergebnisse aus Übung 2 erneut. Dafür haben wir die Funktionen die Sie in Übung 2 bearbeitet haben in der Datei ``gda_sdm2_functions.py`` zusammengefasst. \n"
   ]
  },
  {
   "cell_type": "code",
   "execution_count": 2,
   "metadata": {},
   "outputs": [
    {
     "name": "stdout",
     "output_type": "stream",
     "text": [
      "Estimated number of clusters: 47\n"
     ]
    }
   ],
   "source": [
    "# Path to input file\n",
    "input_file = os.path.join('input_data', 'taxi_21.txt')\n",
    "\n",
    "# Read data\n",
    "data_orginal = read_romataxidata(input_file, nrows=5000)\n",
    "\n",
    "# Apply transformations\n",
    "data = transform(data_orginal, timescale=60)\n",
    "\n",
    "# Calculate clusters with dbscan\n",
    "labels, core_samples_indices = apply_dbscan(data, eps=5, min_samples=10, metric='chebyshev')"
   ]
  },
  {
   "cell_type": "markdown",
   "metadata": {},
   "source": [
    "### 2.2 Visualisierung der Staypoints\n",
    "Um uns die Daten der letzten Woche nochmals genauer anzusehen, möchten wie sie Visualsieren. Dazu fassen wir die Daten in einem [Geopandas Dataframe](https://github.com/geopandas/geopandas) zusammen. Ein Geodataframe ist eine python Datenstruktur die es uns ermöglicht effizient mit Geodaten umzugehen und sie später zu visualisieren. Alle Daten die wir visualsieren möchten, müssen also in dem Geodataframe stehen. Um die Ergebnisse gut analysieren zu können und um später mit den Daten weiterarbeiten zu könenn, brauchen wir vor allem die folgenden Informationen:\n",
    "- __Geometrie__\n",
    "- __Zeitstempel__\n",
    "- __Clusterlabel__ \n",
    "- __Kernpunktindikator__\n",
    "\n",
    "Dafür verbinden wir die Originaldaten (nicht die transformierten Daten, diese haben keine Zeitstempel mehr) mit den Ergebnissen des Cluteringalgorithmus.\n"
   ]
  },
  {
   "cell_type": "code",
   "execution_count": 3,
   "metadata": {},
   "outputs": [
    {
     "data": {
      "text/html": [
       "<div>\n",
       "<style scoped>\n",
       "    .dataframe tbody tr th:only-of-type {\n",
       "        vertical-align: middle;\n",
       "    }\n",
       "\n",
       "    .dataframe tbody tr th {\n",
       "        vertical-align: top;\n",
       "    }\n",
       "\n",
       "    .dataframe thead th {\n",
       "        text-align: right;\n",
       "    }\n",
       "</style>\n",
       "<table border=\"1\" class=\"dataframe\">\n",
       "  <thead>\n",
       "    <tr style=\"text-align: right;\">\n",
       "      <th></th>\n",
       "      <th>long</th>\n",
       "      <th>lat</th>\n",
       "      <th>timestamp</th>\n",
       "      <th>geometry</th>\n",
       "      <th>is_core</th>\n",
       "      <th>label</th>\n",
       "    </tr>\n",
       "  </thead>\n",
       "  <tbody>\n",
       "    <tr>\n",
       "      <th>0</th>\n",
       "      <td>12.524926</td>\n",
       "      <td>41.936760</td>\n",
       "      <td>2014-02-02 14:32:17.886734</td>\n",
       "      <td>POINT (12.52493 41.93676)</td>\n",
       "      <td>False</td>\n",
       "      <td>-1</td>\n",
       "    </tr>\n",
       "    <tr>\n",
       "      <th>1</th>\n",
       "      <td>12.524926</td>\n",
       "      <td>41.936760</td>\n",
       "      <td>2014-02-02 14:32:17.887344</td>\n",
       "      <td>POINT (12.52493 41.93676)</td>\n",
       "      <td>False</td>\n",
       "      <td>-1</td>\n",
       "    </tr>\n",
       "    <tr>\n",
       "      <th>2</th>\n",
       "      <td>12.523382</td>\n",
       "      <td>41.935415</td>\n",
       "      <td>2014-02-02 14:32:25.942641</td>\n",
       "      <td>POINT (12.52338 41.93541)</td>\n",
       "      <td>False</td>\n",
       "      <td>-1</td>\n",
       "    </tr>\n",
       "    <tr>\n",
       "      <th>3</th>\n",
       "      <td>12.521539</td>\n",
       "      <td>41.933817</td>\n",
       "      <td>2014-02-02 14:32:40.983523</td>\n",
       "      <td>POINT (12.52154 41.93382)</td>\n",
       "      <td>False</td>\n",
       "      <td>-1</td>\n",
       "    </tr>\n",
       "    <tr>\n",
       "      <th>4</th>\n",
       "      <td>12.521023</td>\n",
       "      <td>41.933368</td>\n",
       "      <td>2014-02-02 14:32:56.936338</td>\n",
       "      <td>POINT (12.52102 41.93337)</td>\n",
       "      <td>False</td>\n",
       "      <td>-1</td>\n",
       "    </tr>\n",
       "  </tbody>\n",
       "</table>\n",
       "</div>"
      ],
      "text/plain": [
       "        long        lat                  timestamp                   geometry  \\\n",
       "0  12.524926  41.936760 2014-02-02 14:32:17.886734  POINT (12.52493 41.93676)   \n",
       "1  12.524926  41.936760 2014-02-02 14:32:17.887344  POINT (12.52493 41.93676)   \n",
       "2  12.523382  41.935415 2014-02-02 14:32:25.942641  POINT (12.52338 41.93541)   \n",
       "3  12.521539  41.933817 2014-02-02 14:32:40.983523  POINT (12.52154 41.93382)   \n",
       "4  12.521023  41.933368 2014-02-02 14:32:56.936338  POINT (12.52102 41.93337)   \n",
       "\n",
       "   is_core  label  \n",
       "0    False     -1  \n",
       "1    False     -1  \n",
       "2    False     -1  \n",
       "3    False     -1  \n",
       "4    False     -1  "
      ]
     },
     "execution_count": 3,
     "metadata": {},
     "output_type": "execute_result"
    }
   ],
   "source": [
    "# Construct Geodataframe from original data\n",
    "italy_gdf = gpd.GeoDataFrame(data=data_orginal, columns= ['long', 'lat',  'timestamp'], \n",
    "            geometry=gpd.points_from_xy([row[0] for row in data_orginal], [row[1] for row in data_orginal]), crs=\"EPSG:4326\")\n",
    "\n",
    "# Add clustering information\n",
    "italy_gdf['is_core'] = False\n",
    "italy_gdf.loc[core_samples_indices, 'is_core'] = True\n",
    "italy_gdf['label'] = labels.astype('int')\n",
    "\n",
    "# make sure the dataframe is sorted by tracking time and show first lines\n",
    "italy_gdf.sort_values(by='timestamp', inplace=True)\n",
    "italy_gdf.head()"
   ]
  },
  {
   "cell_type": "code",
   "execution_count": 83,
   "metadata": {},
   "outputs": [
    {
     "name": "stdout",
     "output_type": "stream",
     "text": [
      "[-1  0  1  2  3  4  5  6  7  8  9 10 11 12 13 14 15 16 17 18 19 20 21 22\n",
      " 23 24 25 26 27 28 29 30 31 32 33 34 35 36 37 38 39 40 41 42 43 44 45 46]\n"
     ]
    }
   ],
   "source": [
    "print(italy_gdf['label'].unique())"
   ]
  },
  {
   "cell_type": "markdown",
   "metadata": {},
   "source": [
    "Die Daten im Geopandasformat geben uns schon jetzt die Möglichkeit sie einfach und schnell über die ``gdf.plot()`` zu visualisieren. Um die Ergbnisse gut zu verstehen, ist es aber hilfreich, die Ergebnisse interaktiv auf einer Karte darzustellen."
   ]
  },
  {
   "cell_type": "code",
   "execution_count": 4,
   "metadata": {},
   "outputs": [
    {
     "data": {
      "text/plain": [
       "<matplotlib.axes._subplots.AxesSubplot at 0x238ae8b7438>"
      ]
     },
     "execution_count": 4,
     "metadata": {},
     "output_type": "execute_result"
    },
    {
     "data": {
      "image/png": "[encoded data removed]",
      "text/plain": [
       "<Figure size 432x288 with 1 Axes>"
      ]
     },
     "metadata": {
      "needs_background": "light"
     },
     "output_type": "display_data"
    }
   ],
   "source": [
    "italy_gdf.plot()"
   ]
  },
  {
   "cell_type": "code",
   "execution_count": null,
   "metadata": {},
   "outputs": [],
   "source": []
  },
  {
   "cell_type": "code",
   "execution_count": null,
   "metadata": {},
   "outputs": [],
   "source": [
    "\n",
    "\n",
    "\n",
    "\n"
   ]
  },
  {
   "cell_type": "code",
   "execution_count": null,
   "metadata": {},
   "outputs": [],
   "source": []
  },
  {
   "cell_type": "code",
   "execution_count": 99,
   "metadata": {},
   "outputs": [],
   "source": [
    "def get_ipyleaflet_trackpoint_layer(gdf, min_label=0, max_label=1, slack=0):\n",
    "    \n",
    "       \n",
    "    circlelist_noise = list()\n",
    "    circlelist_sp = list()\n",
    "    \n",
    "    \n",
    "    gdf = filter_by_label(gdf, min_label, max_label, slack=slack)\n",
    "    print(gdf.shape)\n",
    "\n",
    "    \n",
    "    # create colormap\n",
    "    unique_labels = gdf['label'].unique().tolist()\n",
    "    nb_labels = len(unique_labels)\n",
    "    unique_labels.remove(-1)\n",
    "    true_min_label = min(unique_labels)\n",
    "\n",
    "    colors = plt.cm.Spectral(np.linspace(0, 1, nb_labels))\n",
    "    colors = [matplotlib.colors.to_hex(color_this) for color_this in colors]\n",
    "    \n",
    "    for ix, row in gdf.iterrows():\n",
    "        \n",
    "        message = HTML()\n",
    "        t_string = row['timestamp'].strftime(\"%Y-%m-%d %H-%M-%S\")\n",
    "        \n",
    "        message.value = \"\"\"<table>\n",
    "                            <tr> <td>label:</td>      <td>&emsp;</td> <td>{}</td> </tr>\n",
    "                            <tr> <td>timestamp:</td>  <td>&emsp;</td> <td>{}</td> </tr>\n",
    "                            </table>\"\"\".format(row.label, t_string)\n",
    "        \n",
    "        if int(row.label) == -1:\n",
    "            fillcolor_this = \"Gray\"\n",
    "            opacity_this = 0.6\n",
    "            stroke = True\n",
    "            radius_this = 5\n",
    "       \n",
    "\n",
    "            circle = ipy.CircleMarker()\n",
    "            circle.location = (row.geometry.y, row.geometry.x)\n",
    "            circle.radius = radius_this\n",
    "            circle.fill_opacity = opacity_this\n",
    "            circle.fill_color = fillcolor_this\n",
    "            circle.stroke = stroke\n",
    "            circle.color = 'Black'\n",
    "            circle.weight = 1\n",
    "            circle.opacity = 0.3\n",
    "            circle.popup = message \n",
    "            \n",
    "            circlelist_noise.append(circle)\n",
    "        \n",
    "        else:\n",
    "            fillcolor_this = colors[int(row.label)-true_min_label]\n",
    "            opacity_this= 0.5\n",
    "            stroke = True\n",
    "            radius_this = 7\n",
    "            circle = ipy.CircleMarker()\n",
    "            circle.location = (row.geometry.y, row.geometry.x)\n",
    "            circle.radius = radius_this\n",
    "            circle.fill_opacity = opacity_this\n",
    "            circle.fill_color = fillcolor_this\n",
    "            circle.stroke = stroke\n",
    "            circle.color = 'Black'\n",
    "            circle.weight = 1\n",
    "            circle.opacity = 0.3\n",
    "            circle.popup = message \n",
    "            \n",
    "            circlelist_sp.append(circle)\n",
    "            \n",
    "        \n",
    "        \n",
    "       \n",
    "        #circle_group.append(circle)\n",
    "\n",
    "    layer_group_noise = ipy.LayerGroup(layers=circlelist_noise)\n",
    "    layer_group_noise.name = 'trackpoints noise'\n",
    "    \n",
    "    layer_group_sp = ipy.LayerGroup(layers=circlelist_sp)\n",
    "    layer_group_sp.name = 'trackpoints staypoints'\n",
    "        \n",
    "    return layer_group_noise, layer_group_sp\n",
    "\n",
    "\n",
    "                                 \n",
    "\n"
   ]
  },
  {
   "cell_type": "code",
   "execution_count": 100,
   "metadata": {},
   "outputs": [],
   "source": [
    "try: \n",
    "    del m\n",
    "except:\n",
    "    pass\n",
    "try:\n",
    "    del layer_group\n",
    "except:\n",
    "    pass"
   ]
  },
  {
   "cell_type": "code",
   "execution_count": 109,
   "metadata": {},
   "outputs": [
    {
     "data": {
      "application/vnd.jupyter.widget-view+json": {
       "model_id": "a063c98c0e3d4932adc611911eb10104",
       "version_major": 2,
       "version_minor": 0
      },
      "text/plain": [
       "Map(center=[41.888, 12.5215], controls=(ZoomControl(options=['position', 'zoom_in_text', 'zoom_in_title', 'zoo…"
      ]
     },
     "metadata": {},
     "output_type": "display_data"
    }
   ],
   "source": [
    "m = ipy.Map(center=(41.888, 12.5215), zoom = 12) # basemap= ipy.basemaps.Esri.WorldTopoMap)\n",
    "m.add_control(ipy.LayersControl())\n",
    "m"
   ]
  },
  {
   "cell_type": "code",
   "execution_count": 110,
   "metadata": {},
   "outputs": [
    {
     "name": "stdout",
     "output_type": "stream",
     "text": [
      "(830, 6)\n"
     ]
    }
   ],
   "source": [
    "layer_noise, layer_sp = get_ipyleaflet_trackpoint_layer(italy_gdf.copy(), min_label=6, max_label=8, slack=10)\n",
    "m.add_layer(layer_noise)\n",
    "m.add_layer(layer_sp)"
   ]
  },
  {
   "cell_type": "code",
   "execution_count": null,
   "metadata": {},
   "outputs": [],
   "source": []
  },
  {
   "cell_type": "code",
   "execution_count": null,
   "metadata": {
    "scrolled": true
   },
   "outputs": [],
   "source": [
    "\n",
    "\n",
    "\n"
   ]
  },
  {
   "cell_type": "code",
   "execution_count": null,
   "metadata": {},
   "outputs": [],
   "source": []
  },
  {
   "cell_type": "code",
   "execution_count": null,
   "metadata": {},
   "outputs": [],
   "source": [
    "\n"
   ]
  },
  {
   "cell_type": "markdown",
   "metadata": {},
   "source": [
    "x\ty\ttimestamp_norm\tlabel\tgeometry\ttimestamp\tis_core\n",
    "0\t294810.534620\t4.645718e+06\t46952.298112\t-1.0\tPOINT (12.52493 41.93676)\t2014-02-02 14:32:17.886734"
   ]
  },
  {
   "cell_type": "code",
   "execution_count": 77,
   "metadata": {},
   "outputs": [
    {
     "ename": "KeyError",
     "evalue": "\"['x', 'y'] not in index\"",
     "output_type": "error",
     "traceback": [
      "\u001b[1;31m---------------------------------------------------------------------------\u001b[0m",
      "\u001b[1;31mKeyError\u001b[0m                                  Traceback (most recent call last)",
      "\u001b[1;32m<ipython-input-77-7853791ab6bf>\u001b[0m in \u001b[0;36m<module>\u001b[1;34m\u001b[0m\n\u001b[0;32m      1\u001b[0m \u001b[0mitaly_gdf\u001b[0m\u001b[1;33m.\u001b[0m\u001b[0msort_values\u001b[0m\u001b[1;33m(\u001b[0m\u001b[0mby\u001b[0m\u001b[1;33m=\u001b[0m\u001b[1;34m'timestamp'\u001b[0m\u001b[1;33m,\u001b[0m \u001b[0minplace\u001b[0m\u001b[1;33m=\u001b[0m\u001b[1;32mTrue\u001b[0m\u001b[1;33m)\u001b[0m\u001b[1;33m\u001b[0m\u001b[1;33m\u001b[0m\u001b[0m\n\u001b[1;32m----> 2\u001b[1;33m \u001b[0minput_raw\u001b[0m \u001b[1;33m=\u001b[0m \u001b[0mitaly_gdf\u001b[0m\u001b[1;33m[\u001b[0m\u001b[1;33m[\u001b[0m\u001b[1;34m'x'\u001b[0m\u001b[1;33m,\u001b[0m \u001b[1;34m'y'\u001b[0m\u001b[1;33m,\u001b[0m \u001b[1;34m'timestamp'\u001b[0m\u001b[1;33m,\u001b[0m \u001b[1;34m'label'\u001b[0m\u001b[1;33m,\u001b[0m \u001b[1;34m'geometry'\u001b[0m\u001b[1;33m]\u001b[0m\u001b[1;33m]\u001b[0m\u001b[1;33m.\u001b[0m\u001b[0mvalues\u001b[0m\u001b[1;33m.\u001b[0m\u001b[0mtolist\u001b[0m\u001b[1;33m(\u001b[0m\u001b[1;33m)\u001b[0m\u001b[1;33m\u001b[0m\u001b[1;33m\u001b[0m\u001b[0m\n\u001b[0m\u001b[0;32m      3\u001b[0m \u001b[0minput_raw\u001b[0m\u001b[1;33m[\u001b[0m\u001b[1;36m0\u001b[0m\u001b[1;33m]\u001b[0m\u001b[1;33m\u001b[0m\u001b[1;33m\u001b[0m\u001b[0m\n",
      "\u001b[1;32m~\\.conda\\envs\\GDA20\\lib\\site-packages\\geopandas\\geodataframe.py\u001b[0m in \u001b[0;36m__getitem__\u001b[1;34m(self, key)\u001b[0m\n\u001b[0;32m    574\u001b[0m         \u001b[0mGeoDataFrame\u001b[0m\u001b[1;33m.\u001b[0m\u001b[1;33m\u001b[0m\u001b[1;33m\u001b[0m\u001b[0m\n\u001b[0;32m    575\u001b[0m         \"\"\"\n\u001b[1;32m--> 576\u001b[1;33m         \u001b[0mresult\u001b[0m \u001b[1;33m=\u001b[0m \u001b[0msuper\u001b[0m\u001b[1;33m(\u001b[0m\u001b[0mGeoDataFrame\u001b[0m\u001b[1;33m,\u001b[0m \u001b[0mself\u001b[0m\u001b[1;33m)\u001b[0m\u001b[1;33m.\u001b[0m\u001b[0m__getitem__\u001b[0m\u001b[1;33m(\u001b[0m\u001b[0mkey\u001b[0m\u001b[1;33m)\u001b[0m\u001b[1;33m\u001b[0m\u001b[1;33m\u001b[0m\u001b[0m\n\u001b[0m\u001b[0;32m    577\u001b[0m         \u001b[0mgeo_col\u001b[0m \u001b[1;33m=\u001b[0m \u001b[0mself\u001b[0m\u001b[1;33m.\u001b[0m\u001b[0m_geometry_column_name\u001b[0m\u001b[1;33m\u001b[0m\u001b[1;33m\u001b[0m\u001b[0m\n\u001b[0;32m    578\u001b[0m         \u001b[1;32mif\u001b[0m \u001b[0misinstance\u001b[0m\u001b[1;33m(\u001b[0m\u001b[0mkey\u001b[0m\u001b[1;33m,\u001b[0m \u001b[0mstr\u001b[0m\u001b[1;33m)\u001b[0m \u001b[1;32mand\u001b[0m \u001b[0mkey\u001b[0m \u001b[1;33m==\u001b[0m \u001b[0mgeo_col\u001b[0m\u001b[1;33m:\u001b[0m\u001b[1;33m\u001b[0m\u001b[1;33m\u001b[0m\u001b[0m\n",
      "\u001b[1;32m~\\.conda\\envs\\GDA20\\lib\\site-packages\\pandas\\core\\frame.py\u001b[0m in \u001b[0;36m__getitem__\u001b[1;34m(self, key)\u001b[0m\n\u001b[0;32m   2804\u001b[0m             \u001b[1;32mif\u001b[0m \u001b[0mis_iterator\u001b[0m\u001b[1;33m(\u001b[0m\u001b[0mkey\u001b[0m\u001b[1;33m)\u001b[0m\u001b[1;33m:\u001b[0m\u001b[1;33m\u001b[0m\u001b[1;33m\u001b[0m\u001b[0m\n\u001b[0;32m   2805\u001b[0m                 \u001b[0mkey\u001b[0m \u001b[1;33m=\u001b[0m \u001b[0mlist\u001b[0m\u001b[1;33m(\u001b[0m\u001b[0mkey\u001b[0m\u001b[1;33m)\u001b[0m\u001b[1;33m\u001b[0m\u001b[1;33m\u001b[0m\u001b[0m\n\u001b[1;32m-> 2806\u001b[1;33m             \u001b[0mindexer\u001b[0m \u001b[1;33m=\u001b[0m \u001b[0mself\u001b[0m\u001b[1;33m.\u001b[0m\u001b[0mloc\u001b[0m\u001b[1;33m.\u001b[0m\u001b[0m_get_listlike_indexer\u001b[0m\u001b[1;33m(\u001b[0m\u001b[0mkey\u001b[0m\u001b[1;33m,\u001b[0m \u001b[0maxis\u001b[0m\u001b[1;33m=\u001b[0m\u001b[1;36m1\u001b[0m\u001b[1;33m,\u001b[0m \u001b[0mraise_missing\u001b[0m\u001b[1;33m=\u001b[0m\u001b[1;32mTrue\u001b[0m\u001b[1;33m)\u001b[0m\u001b[1;33m[\u001b[0m\u001b[1;36m1\u001b[0m\u001b[1;33m]\u001b[0m\u001b[1;33m\u001b[0m\u001b[1;33m\u001b[0m\u001b[0m\n\u001b[0m\u001b[0;32m   2807\u001b[0m \u001b[1;33m\u001b[0m\u001b[0m\n\u001b[0;32m   2808\u001b[0m         \u001b[1;31m# take() does not accept boolean indexers\u001b[0m\u001b[1;33m\u001b[0m\u001b[1;33m\u001b[0m\u001b[1;33m\u001b[0m\u001b[0m\n",
      "\u001b[1;32m~\\.conda\\envs\\GDA20\\lib\\site-packages\\pandas\\core\\indexing.py\u001b[0m in \u001b[0;36m_get_listlike_indexer\u001b[1;34m(self, key, axis, raise_missing)\u001b[0m\n\u001b[0;32m   1551\u001b[0m \u001b[1;33m\u001b[0m\u001b[0m\n\u001b[0;32m   1552\u001b[0m         self._validate_read_indexer(\n\u001b[1;32m-> 1553\u001b[1;33m             \u001b[0mkeyarr\u001b[0m\u001b[1;33m,\u001b[0m \u001b[0mindexer\u001b[0m\u001b[1;33m,\u001b[0m \u001b[0mo\u001b[0m\u001b[1;33m.\u001b[0m\u001b[0m_get_axis_number\u001b[0m\u001b[1;33m(\u001b[0m\u001b[0maxis\u001b[0m\u001b[1;33m)\u001b[0m\u001b[1;33m,\u001b[0m \u001b[0mraise_missing\u001b[0m\u001b[1;33m=\u001b[0m\u001b[0mraise_missing\u001b[0m\u001b[1;33m\u001b[0m\u001b[1;33m\u001b[0m\u001b[0m\n\u001b[0m\u001b[0;32m   1554\u001b[0m         )\n\u001b[0;32m   1555\u001b[0m         \u001b[1;32mreturn\u001b[0m \u001b[0mkeyarr\u001b[0m\u001b[1;33m,\u001b[0m \u001b[0mindexer\u001b[0m\u001b[1;33m\u001b[0m\u001b[1;33m\u001b[0m\u001b[0m\n",
      "\u001b[1;32m~\\.conda\\envs\\GDA20\\lib\\site-packages\\pandas\\core\\indexing.py\u001b[0m in \u001b[0;36m_validate_read_indexer\u001b[1;34m(self, key, indexer, axis, raise_missing)\u001b[0m\n\u001b[0;32m   1644\u001b[0m             \u001b[1;32mif\u001b[0m \u001b[1;32mnot\u001b[0m \u001b[1;33m(\u001b[0m\u001b[0mself\u001b[0m\u001b[1;33m.\u001b[0m\u001b[0mname\u001b[0m \u001b[1;33m==\u001b[0m \u001b[1;34m\"loc\"\u001b[0m \u001b[1;32mand\u001b[0m \u001b[1;32mnot\u001b[0m \u001b[0mraise_missing\u001b[0m\u001b[1;33m)\u001b[0m\u001b[1;33m:\u001b[0m\u001b[1;33m\u001b[0m\u001b[1;33m\u001b[0m\u001b[0m\n\u001b[0;32m   1645\u001b[0m                 \u001b[0mnot_found\u001b[0m \u001b[1;33m=\u001b[0m \u001b[0mlist\u001b[0m\u001b[1;33m(\u001b[0m\u001b[0mset\u001b[0m\u001b[1;33m(\u001b[0m\u001b[0mkey\u001b[0m\u001b[1;33m)\u001b[0m \u001b[1;33m-\u001b[0m \u001b[0mset\u001b[0m\u001b[1;33m(\u001b[0m\u001b[0max\u001b[0m\u001b[1;33m)\u001b[0m\u001b[1;33m)\u001b[0m\u001b[1;33m\u001b[0m\u001b[1;33m\u001b[0m\u001b[0m\n\u001b[1;32m-> 1646\u001b[1;33m                 \u001b[1;32mraise\u001b[0m \u001b[0mKeyError\u001b[0m\u001b[1;33m(\u001b[0m\u001b[1;34mf\"{not_found} not in index\"\u001b[0m\u001b[1;33m)\u001b[0m\u001b[1;33m\u001b[0m\u001b[1;33m\u001b[0m\u001b[0m\n\u001b[0m\u001b[0;32m   1647\u001b[0m \u001b[1;33m\u001b[0m\u001b[0m\n\u001b[0;32m   1648\u001b[0m             \u001b[1;31m# we skip the warning on Categorical/Interval\u001b[0m\u001b[1;33m\u001b[0m\u001b[1;33m\u001b[0m\u001b[1;33m\u001b[0m\u001b[0m\n",
      "\u001b[1;31mKeyError\u001b[0m: \"['x', 'y'] not in index\""
     ]
    }
   ],
   "source": [
    "italy_gdf.sort_values(by='timestamp', inplace=True)\n",
    "input_raw = italy_gdf[['x', 'y', 'timestamp', 'label', 'geometry']].values.tolist()\n",
    "input_raw[0]"
   ]
  },
  {
   "cell_type": "code",
   "execution_count": null,
   "metadata": {},
   "outputs": [],
   "source": [
    "def get_tripleg_geometry_from_points(list_of_points):\n",
    "    coords = [(point.x, point.y) for point in list_of_points]\n",
    "    \n",
    "    return LineString(coords)\n",
    "    \n",
    "    \n",
    "def get_tripleg(cluster_start, cluster_end, start_time, end_time, geometry):\n",
    "    tripleg_dict =  {'cluster_start': cluster_start, \n",
    "                     'cluster_end': cluster_end,\n",
    "                    't_start': start_time, \n",
    "                     't_end': end_time, \n",
    "                     'geometry': geometry}\n",
    "    \n",
    "    return tripleg_dict\n",
    "\n",
    "    \n",
    "    \n",
    "    \n",
    "\n",
    "\n",
    "n = len(input_raw)\n",
    "tripleg_list = []\n",
    "skip_k_trackpoints = 0\n",
    "\n",
    "for i in range(0,n):\n",
    "    \n",
    "    if skip_k_trackpoints > 0:\n",
    "        skip_k_trackpoints = skip_k_trackpoints -1\n",
    "        continue\n",
    "    \n",
    "    \n",
    "    if input_raw[i][3] == -1:\n",
    "        # begin of tripleg\n",
    "        print(i)\n",
    "        \n",
    "        tripleg_start_cluster = input_raw[i-1][3]\n",
    "        tripleg_start_time = input_raw[i][2]\n",
    "        tripleg_point_list = []\n",
    "        for j in range(i,n):\n",
    "            \n",
    "            if input_raw[j][3] == -1:\n",
    "                tripleg_point_list.append(input_raw[j][4])            \n",
    "                \n",
    "            # end of tripleg\n",
    "            else:\n",
    "                if len(tripleg_point_list) > 1:\n",
    "\n",
    "                    tripleg_geometry_this = get_tripleg_geometry_from_points(tripleg_point_list)\n",
    "                    tripleg_end_time = input_raw[j-1][2]\n",
    "                    \n",
    "                    tripleg_end_cluster = input_raw[j][3]\n",
    "\n",
    "                    tripleg_this = get_tripleg(cluster_start=tripleg_start_cluster,\n",
    "                                               cluster_end=tripleg_end_cluster,\n",
    "                                                start_time=tripleg_start_time,\n",
    "                                               end_time=tripleg_end_time,\n",
    "                                               geometry=tripleg_geometry_this)\n",
    "\n",
    "                    tripleg_list.append(tripleg_this)\n",
    "                    skip_k_trackpoints = len(tripleg_point_list)\n",
    "\n",
    "\n",
    "                break\n",
    "                \n",
    "    else:\n",
    "        continue\n",
    "\n",
    "\n",
    "\n",
    "            "
   ]
  },
  {
   "cell_type": "code",
   "execution_count": null,
   "metadata": {},
   "outputs": [],
   "source": [
    "tripleg_gdf = pd.DataFrame(tripleg_list)\n",
    "tripleg_gdf = gpd.GeoDataFrame(tripleg_gdf, geometry=tripleg_gdf.geometry, crs=crs_wgs84)\n",
    "tripleg_gdf['t_start'] = tripleg_gdf['t_start'].dt.strftime(\"%Y-%m-%d %H-%M-%S\")\n",
    "tripleg_gdf['t_end'] = tripleg_gdf['t_end'].dt.strftime(\"%Y-%m-%d %H-%M-%S\")"
   ]
  },
  {
   "cell_type": "code",
   "execution_count": null,
   "metadata": {},
   "outputs": [],
   "source": [
    "m = ipy.Map(center=(41.8881987655463, 12.5215863435528), zoom = 12) # basemap= ipy.basemaps.Esri.WorldTopoMap)\n",
    "m.add_control(ipy.LayersControl())\n"
   ]
  },
  {
   "cell_type": "code",
   "execution_count": null,
   "metadata": {},
   "outputs": [],
   "source": [
    "min_label = 0\n",
    "max_label = 1\n",
    "layer_group = get_trackpoint_layer(italy_gdf, min_label=min_label, max_label=max_label)\n",
    "m.add_layer(layer_group)"
   ]
  },
  {
   "cell_type": "code",
   "execution_count": null,
   "metadata": {},
   "outputs": [],
   "source": [
    "geo_data = ipy.GeoData(geo_dataframe=filter_by_label(tripleg_gdf, min_label, max_label, label_col_name='cluster_start'),\n",
    "                       name='triplegs', style={'opacity': 0.8, 'width': 8, 'color': 'Blue'}, \n",
    "                       hover_style={'color': '#b08a3e' , 'fillOpacity': 0.8})\n",
    "\n",
    "from ipyleaflet import WidgetControl\n",
    "html = HTML(\"\")\n",
    "html.layout.margin = '0px 20px 20px 20px'\n",
    "control = WidgetControl(widget=html, position='topright')\n",
    "m.add_control(control)\n",
    "m.add_layer(geo_data)"
   ]
  },
  {
   "cell_type": "code",
   "execution_count": null,
   "metadata": {},
   "outputs": [],
   "source": []
  },
  {
   "cell_type": "code",
   "execution_count": null,
   "metadata": {},
   "outputs": [],
   "source": [
    "def update_html_tripleg(feature, **kwargs):\n",
    "    string_list = []\n",
    "    string_list.append(\"<table>\")\n",
    "    for var_name in feature['properties']:\n",
    "        value = feature['properties'][var_name]\n",
    "        string_list.append(\"<tr> <td>{}:</td>  <td>&emsp;</td> <td>{}</td> </tr>\\n\".format(var_name, value))\n",
    "   \n",
    "    string_list.append(\"</table>\")\n",
    "    html.value = \"\".join(string_list)\n",
    "\n",
    "\n",
    "\n",
    "geo_data.on_hover(update_html_tripleg)\n"
   ]
  },
  {
   "cell_type": "code",
   "execution_count": null,
   "metadata": {},
   "outputs": [],
   "source": [
    "m"
   ]
  },
  {
   "cell_type": "code",
   "execution_count": null,
   "metadata": {},
   "outputs": [],
   "source": []
  },
  {
   "cell_type": "code",
   "execution_count": null,
   "metadata": {},
   "outputs": [],
   "source": [
    "# calculate speed + histogram"
   ]
  },
  {
   "cell_type": "code",
   "execution_count": null,
   "metadata": {},
   "outputs": [],
   "source": []
  },
  {
   "cell_type": "code",
   "execution_count": null,
   "metadata": {},
   "outputs": [],
   "source": []
  },
  {
   "cell_type": "code",
   "execution_count": null,
   "metadata": {},
   "outputs": [],
   "source": [
    "D_frechet = StandardScaler().fit_transform(calculate_distance_matrix(gdf, distance='frechet'))"
   ]
  },
  {
   "cell_type": "code",
   "execution_count": null,
   "metadata": {},
   "outputs": [],
   "source": []
  },
  {
   "cell_type": "code",
   "execution_count": null,
   "metadata": {},
   "outputs": [],
   "source": []
  },
  {
   "cell_type": "code",
   "execution_count": null,
   "metadata": {},
   "outputs": [],
   "source": []
  }
 ],
 "metadata": {
  "kernelspec": {
   "display_name": "Python 3",
   "language": "python",
   "name": "python3"
  },
  "language_info": {
   "codemirror_mode": {
    "name": "ipython",
    "version": 3
   },
   "file_extension": ".py",
   "mimetype": "text/x-python",
   "name": "python",
   "nbconvert_exporter": "python",
   "pygments_lexer": "ipython3",
   "version": "3.6.10"
  }
 },
 "nbformat": 4,
 "nbformat_minor": 4
}
